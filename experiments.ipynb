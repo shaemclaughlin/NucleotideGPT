{
 "cells": [
  {
   "cell_type": "code",
   "execution_count": 1,
   "metadata": {},
   "outputs": [
    {
     "name": "stderr",
     "output_type": "stream",
     "text": [
      "2024-09-01 20:48:26.420650: E external/local_xla/xla/stream_executor/cuda/cuda_fft.cc:485] Unable to register cuFFT factory: Attempting to register factory for plugin cuFFT when one has already been registered\n",
      "2024-09-01 20:48:26.478621: E external/local_xla/xla/stream_executor/cuda/cuda_dnn.cc:8454] Unable to register cuDNN factory: Attempting to register factory for plugin cuDNN when one has already been registered\n",
      "2024-09-01 20:48:26.496163: E external/local_xla/xla/stream_executor/cuda/cuda_blas.cc:1452] Unable to register cuBLAS factory: Attempting to register factory for plugin cuBLAS when one has already been registered\n",
      "2024-09-01 20:48:28.212182: W tensorflow/compiler/tf2tensorrt/utils/py_utils.cc:38] TF-TRT Warning: Could not find TensorRT\n"
     ]
    }
   ],
   "source": [
    "import jax\n",
    "import projects.charformer.data as data\n",
    "from importlib import reload\n",
    "data = reload(data)\n",
    "import sys\n",
    "import numpy\n",
    "import jax\n",
    "import jax.numpy as jnp\n",
    "numpy.set_printoptions(threshold=sys.maxsize)\n",
    "# %pip install tqdm\n"
   ]
  },
  {
   "cell_type": "code",
   "execution_count": 5,
   "metadata": {},
   "outputs": [
    {
     "data": {
      "text/plain": [
       "[TpuDevice(id=0, process_index=0, coords=(0,0,0), core_on_chip=0),\n",
       " TpuDevice(id=1, process_index=0, coords=(0,0,0), core_on_chip=1),\n",
       " TpuDevice(id=2, process_index=0, coords=(1,0,0), core_on_chip=0),\n",
       " TpuDevice(id=3, process_index=0, coords=(1,0,0), core_on_chip=1),\n",
       " TpuDevice(id=4, process_index=0, coords=(0,1,0), core_on_chip=0),\n",
       " TpuDevice(id=5, process_index=0, coords=(0,1,0), core_on_chip=1),\n",
       " TpuDevice(id=6, process_index=0, coords=(1,1,0), core_on_chip=0),\n",
       " TpuDevice(id=7, process_index=0, coords=(1,1,0), core_on_chip=1)]"
      ]
     },
     "execution_count": 5,
     "metadata": {},
     "output_type": "execute_result"
    }
   ],
   "source": [
    "jax.devices()"
   ]
  },
  {
   "cell_type": "code",
   "execution_count": 6,
   "metadata": {},
   "outputs": [],
   "source": [
    "ds = data.CharDataset(data.CharDataset.get_default_config())"
   ]
  },
  {
   "cell_type": "code",
   "execution_count": 6,
   "metadata": {},
   "outputs": [
    {
     "name": "stdout",
     "output_type": "stream",
     "text": [
      "--2024-09-01 05:16:26--  https://huggingface.co/datasets/roneneldan/TinyStories/resolve/main/TinyStoriesV2-GPT4-train.txt\n",
      "Resolving huggingface.co (huggingface.co)... 18.172.134.124, 18.172.134.24, 18.172.134.88, ...\n",
      "Connecting to huggingface.co (huggingface.co)|18.172.134.124|:443... connected.\n",
      "HTTP request sent, awaiting response... "
     ]
    },
    {
     "name": "stderr",
     "output_type": "stream",
     "text": [
      "/usr/lib/python3.10/pty.py:89: RuntimeWarning: os.fork() was called. os.fork() is incompatible with multithreaded code, and JAX is multithreaded, so this will likely lead to a deadlock.\n",
      "  pid, fd = os.forkpty()\n"
     ]
    },
    {
     "name": "stdout",
     "output_type": "stream",
     "text": [
      "302 Found\n",
      "Location: https://cdn-lfs.huggingface.co/repos/42/7f/427f7497b6c6596c18b46d5a72e61364fcad12aa433c60a0dbd4d344477b9d81/6418d412de72888f52b5142c761ac21a582f7d1166f0bfbdb5f03ccfdec90443?response-content-disposition=inline%3B+filename*%3DUTF-8%27%27TinyStoriesV2-GPT4-train.txt%3B+filename%3D%22TinyStoriesV2-GPT4-train.txt%22%3B&response-content-type=text%2Fplain&Expires=1725426986&Policy=eyJTdGF0ZW1lbnQiOlt7IkNvbmRpdGlvbiI6eyJEYXRlTGVzc1RoYW4iOnsiQVdTOkVwb2NoVGltZSI6MTcyNTQyNjk4Nn19LCJSZXNvdXJjZSI6Imh0dHBzOi8vY2RuLWxmcy5odWdnaW5nZmFjZS5jby9yZXBvcy80Mi83Zi80MjdmNzQ5N2I2YzY1OTZjMThiNDZkNWE3MmU2MTM2NGZjYWQxMmFhNDMzYzYwYTBkYmQ0ZDM0NDQ3N2I5ZDgxLzY0MThkNDEyZGU3Mjg4OGY1MmI1MTQyYzc2MWFjMjFhNTgyZjdkMTE2NmYwYmZiZGI1ZjAzY2NmZGVjOTA0NDM%7EcmVzcG9uc2UtY29udGVudC1kaXNwb3NpdGlvbj0qJnJlc3BvbnNlLWNvbnRlbnQtdHlwZT0qIn1dfQ__&Signature=XzfglGMmBKMRKSRG6d0HfwZcGBdP2ZNAxAyNXUt7YDFSpKmSRRO267-2w1N8k0UELKWoNnam-T-bn9MOXKAPaiZcCLj36fmb1JgoTsHInwnAimroxzetNuQoIC50BH3PASyZu3qKqCy32ebFRyhYIkEO9Saxif-T8mwCijRcAgZySfnIYAdnDnIgSJFWKM2o5H9Zz5hgyfoZmOj5s59qO20vDfq7LYRN3dEK0egVkKtf5sV6wy9aaOWUDHaMjdqLNiNkBvbU%7E3HxQzpVyokgG7-ieYpTtpTmnXXabSCWMHIWgUD2Ejd--ifK7xRVqsYoKNW0YLtBN8QQ-ORLZyjkMg__&Key-Pair-Id=K3ESJI6DHPFC7 [following]\n",
      "--2024-09-01 05:16:26--  https://cdn-lfs.huggingface.co/repos/42/7f/427f7497b6c6596c18b46d5a72e61364fcad12aa433c60a0dbd4d344477b9d81/6418d412de72888f52b5142c761ac21a582f7d1166f0bfbdb5f03ccfdec90443?response-content-disposition=inline%3B+filename*%3DUTF-8%27%27TinyStoriesV2-GPT4-train.txt%3B+filename%3D%22TinyStoriesV2-GPT4-train.txt%22%3B&response-content-type=text%2Fplain&Expires=1725426986&Policy=eyJTdGF0ZW1lbnQiOlt7IkNvbmRpdGlvbiI6eyJEYXRlTGVzc1RoYW4iOnsiQVdTOkVwb2NoVGltZSI6MTcyNTQyNjk4Nn19LCJSZXNvdXJjZSI6Imh0dHBzOi8vY2RuLWxmcy5odWdnaW5nZmFjZS5jby9yZXBvcy80Mi83Zi80MjdmNzQ5N2I2YzY1OTZjMThiNDZkNWE3MmU2MTM2NGZjYWQxMmFhNDMzYzYwYTBkYmQ0ZDM0NDQ3N2I5ZDgxLzY0MThkNDEyZGU3Mjg4OGY1MmI1MTQyYzc2MWFjMjFhNTgyZjdkMTE2NmYwYmZiZGI1ZjAzY2NmZGVjOTA0NDM%7EcmVzcG9uc2UtY29udGVudC1kaXNwb3NpdGlvbj0qJnJlc3BvbnNlLWNvbnRlbnQtdHlwZT0qIn1dfQ__&Signature=XzfglGMmBKMRKSRG6d0HfwZcGBdP2ZNAxAyNXUt7YDFSpKmSRRO267-2w1N8k0UELKWoNnam-T-bn9MOXKAPaiZcCLj36fmb1JgoTsHInwnAimroxzetNuQoIC50BH3PASyZu3qKqCy32ebFRyhYIkEO9Saxif-T8mwCijRcAgZySfnIYAdnDnIgSJFWKM2o5H9Zz5hgyfoZmOj5s59qO20vDfq7LYRN3dEK0egVkKtf5sV6wy9aaOWUDHaMjdqLNiNkBvbU%7E3HxQzpVyokgG7-ieYpTtpTmnXXabSCWMHIWgUD2Ejd--ifK7xRVqsYoKNW0YLtBN8QQ-ORLZyjkMg__&Key-Pair-Id=K3ESJI6DHPFC7\n",
      "Resolving cdn-lfs.huggingface.co (cdn-lfs.huggingface.co)... 18.160.143.47, 18.160.143.124, 18.160.143.89, ...\n",
      "Connecting to cdn-lfs.huggingface.co (cdn-lfs.huggingface.co)|18.160.143.47|:443... connected.\n",
      "HTTP request sent, awaiting response... 200 OK\n",
      "Length: 2227753162 (2.1G) [text/plain]\n",
      "Saving to: ‘TinyStoriesV2-GPT4-train.txt’\n",
      "\n",
      "TinyStoriesV2-GPT4- 100%[===================>]   2.07G   245MB/s    in 8.7s    \n",
      "\n",
      "2024-09-01 05:16:35 (243 MB/s) - ‘TinyStoriesV2-GPT4-train.txt’ saved [2227753162/2227753162]\n",
      "\n"
     ]
    }
   ],
   "source": [
    "!  wget https://huggingface.co/datasets/roneneldan/TinyStories/resolve/main/TinyStoriesV2-GPT4-train.txt"
   ]
  },
  {
   "cell_type": "code",
   "execution_count": null,
   "metadata": {},
   "outputs": [],
   "source": [
    "ds.create_packed_records(input_file_path='projects/charformer/TinyStoriesV2-GPT4-train.txt', output_dir='projects/charformer/data/tfrecords/', custom_delimiter='<|endoftext|>')"
   ]
  },
  {
   "cell_type": "code",
   "execution_count": 7,
   "metadata": {},
   "outputs": [],
   "source": [
    "retokenized = ds.load_and_retokenize_tfrecord(file_path='projects/charformer/data/tfrecords/record_40.tfrecord')"
   ]
  },
  {
   "cell_type": "code",
   "execution_count": 8,
   "metadata": {},
   "outputs": [
    {
     "name": "stdout",
     "output_type": "stream",
     "text": [
      "One day, a little bug named Tim went for a walk. It was a cold day, and he saw a big tree. Tim thought the tree would be a good place to stay warm. Inside the tree, he found a small room with a cobweb in the corner.\n",
      "Tim saw another bug in the room. She was a spider named Sue. Sue said, \"Hi, Tim! Do you like my cobweb?\" Tim said, \"Yes, it is very nice.\" Sue told Tim that she had a big fruit in the other room. \"But it is old and starting to rot,\" she said. \"We should eat it soon.\"\n",
      "The next day, Tim and Sue went to the other room to eat the fruit. They saw that it was very big and smelled bad. Tim said, \"Oh no, the fruit is all rotten!\" Sue said, \"That's okay, we can still eat it.\" They ate the fruit and felt warm and happy. The cold day did not bother them anymore.\n",
      "<|endoftext|\n",
      "Once upon a time, there was a little bathtub. The bathtub lived in a dark room. The bathtub was sad because it was always alone.\n",
      "One day, a little girl named Lucy came into the room. She saw the bathtub and said, \"Hello bathtub! Why are you in this dark room? Let's play a game!\" The bathtub was very happy to have a friend.\n",
      "Lucy and the bathtub played a game. They had to number the toys. \"One, two, three,\" said Lucy. \"We have three toys!\" The bathtub was happy to play with Lucy. They played until it was time for Lucy to go to bed. The bathtub was no longer sad, and it was not dark anymore because Lucy brought light and love into the room.\n",
      "<|endoftext|\n",
      "\n",
      "Once upon a time, there was a humble squirrel named Gary. Every day, Gary would spread love and happiness to the animals of the forest. The animals loved Gary very much and would do anything to help him.\n",
      "One day, Gary was feeling very thirsty. So he decided to visit a nearby lake to quench his thirst. As he was about to take a sip, he heard a voice.\n",
      "<unk>Why on earth would you drink from this lake? It<unk>s full of bugs and sludge!<unk> said the voice.\n",
      "Gary looked around and saw a wise old owl perched on a tree. <unk>You should come over to my lake,<unk> the owl said, <unk>It<unk>s much cleaner, and the water is like silk!<unk>\n",
      "Gary thought the idea sounded great, and so he followed the owl to the other lake. He quickly dunked his head under and soaked himself in the clean water. It was so refreshing, he decided to stay in the lake all day!\n",
      "At this, the owl chuckled and said, <unk>You are always so humble, Gary. I knew you<unk>d love this lake, so I wanted to surprise you by showing it to you.<unk>\n",
      "Gary had learned his lesson. From then on, he would always remember to be humble and listen to the wise advice of others. \n",
      "<|endoftext|\n",
      "Once upon a time, there was a brilliant cat named Bob. Bob loved to play with his ball all day. One day, Bob's ball rolled into the street. Bob was scared to go get it.\n",
      "Just then, a kind dog named Sam saw Bob. \"What's wrong, Bob?\" Sam asked. \"My ball is in the street, and I can't get it,\" said Bob. Sam had an idea. \"I can help you, Bob!\" Sam said.\n",
      "Sam ran into the street and got the ball for Bob. But suddenly, they heard a loud noise. It was an emergency! A big truck was coming fast. Sam threw the ball to Bob and ran back just in time. The truck did not hit Sam. In the end, Bob and Sam were safe, and they played with the ball together. They were very happy.\n",
      "<|endoftext|\n"
     ]
    }
   ],
   "source": [
    "for r in retokenized:\n",
    "    print(r)"
   ]
  },
  {
   "cell_type": "code",
   "execution_count": 9,
   "metadata": {},
   "outputs": [],
   "source": [
    "iter = ds.create_iterator('projects/charformer/data/tfrecords/record_*.tfrecord', batch_size=8)"
   ]
  },
  {
   "cell_type": "code",
   "execution_count": 10,
   "metadata": {},
   "outputs": [],
   "source": [
    "batch = next(iter)"
   ]
  },
  {
   "cell_type": "code",
   "execution_count": 16,
   "metadata": {},
   "outputs": [],
   "source": [
    "import minformer.model as model\n",
    "import functools\n",
    "model = reload(model)"
   ]
  },
  {
   "cell_type": "code",
   "execution_count": 17,
   "metadata": {},
   "outputs": [],
   "source": [
    "cfg = model.Config(\n",
    "    d_model=1024,\n",
    "    ffw_multiplier=4,\n",
    "    query_heads=8,\n",
    "    key_heads=8,\n",
    "    num_layers=8,\n",
    "    key_dim=16,\n",
    "    vocab_size=256,\n",
    "    causal=True,\n",
    ")\n",
    "mesh = model.create_mesh()"
   ]
  },
  {
   "cell_type": "code",
   "execution_count": 13,
   "metadata": {},
   "outputs": [],
   "source": [
    "weight_shardings = model.Weights.shardings(cfg, mesh, model.fsdp_rules)"
   ]
  },
  {
   "cell_type": "code",
   "execution_count": 18,
   "metadata": {},
   "outputs": [],
   "source": [
    "weights = model.Weights.init(cfg, jax.random.PRNGKey(0), mesh, model.fsdp_rules)"
   ]
  },
  {
   "cell_type": "code",
   "execution_count": 19,
   "metadata": {},
   "outputs": [
    {
     "data": {
      "text/plain": [
       "0.07184384"
      ]
     },
     "execution_count": 19,
     "metadata": {},
     "output_type": "execute_result"
    }
   ],
   "source": [
    "\n",
    "import math\n",
    "sum(jax.tree.leaves(jax.tree.map(lambda x: math.prod(jnp.shape(x)), weights))) / 1e9"
   ]
  },
  {
   "cell_type": "code",
   "execution_count": 45,
   "metadata": {},
   "outputs": [],
   "source": [
    "# jax.tree.map(lambda w: print(w.shape, w.dtype, jnp.mean(w)), weights)"
   ]
  },
  {
   "cell_type": "code",
   "execution_count": 122,
   "metadata": {},
   "outputs": [],
   "source": [
    "step = jax.jit(model.update_step, static_argnames='cfg')\n",
    "step = functools.partial(step, cfg=cfg)"
   ]
  },
  {
   "cell_type": "code",
   "execution_count": 123,
   "metadata": {},
   "outputs": [],
   "source": [
    "loss, weights = step(weights, batch['x'], batch['y'])"
   ]
  },
  {
   "cell_type": "code",
   "execution_count": 124,
   "metadata": {},
   "outputs": [
    {
     "name": "stdout",
     "output_type": "stream",
     "text": [
      "8.629593\n",
      "7.8572187\n",
      "7.489235\n",
      "7.159579\n",
      "6.85832\n",
      "6.5856357\n",
      "6.3399377\n",
      "6.1293993\n",
      "5.9532876\n",
      "5.799922\n"
     ]
    }
   ],
   "source": [
    "# Does loss go down!\n",
    "for i in range(0, 10):\n",
    "    loss, weights = step(weights, batch['x'], batch['y'])\n",
    "    print(loss)"
   ]
  },
  {
   "cell_type": "code",
   "execution_count": 60,
   "metadata": {},
   "outputs": [
    {
     "data": {
      "text/plain": [
       "PartitionSpec('x', None)"
      ]
     },
     "execution_count": 60,
     "metadata": {},
     "output_type": "execute_result"
    }
   ],
   "source": [
    "rules = {\n",
    "    'd': 'x',\n",
    "    'f': None}\n",
    "pspec = jax.sharding.PartitionSpec('d', 'f')\n",
    "\n",
    "x = jax.sharding.PartitionSpec(*(rules[l] for l in pspec))\n",
    "x"
   ]
  },
  {
   "cell_type": "code",
   "execution_count": 46,
   "metadata": {},
   "outputs": [
    {
     "name": "stdout",
     "output_type": "stream",
     "text": [
      "HloModule jit_f, entry_computation_layout={(f32[8,8]{1,0})->f32[8,8]{1,0}}, frontend_attributes={xla.sdy.meshes={}}\n",
      "\n",
      "ENTRY main.6 {\n",
      "  Arg_0.1 = f32[8,8]{1,0} parameter(0)\n",
      "  dot.4 = f32[8,8]{1,0} dot(Arg_0.1, Arg_0.1), lhs_contracting_dims={1}, rhs_contracting_dims={0}\n",
      "  constant.2 = f32[] constant(1)\n",
      "  broadcast.3 = f32[8,8]{1,0} broadcast(constant.2), dimensions={}\n",
      "  ROOT add.5 = f32[8,8]{1,0} add(dot.4, broadcast.3)\n",
      "}\n",
      "\n",
      "\n"
     ]
    }
   ],
   "source": [
    "\n",
    "def f(x):\n",
    "    y = x @ x\n",
    "    y = jax.lax.with_sharding_constraint(y, shardings=jax.sharding.NamedSharding(mesh, ('x', 'y')))\n",
    "    y += 1\n",
    "    return y\n",
    "\n",
    "x = jnp.ones((8, 8))\n",
    "\n",
    "print(jax.jit(f).lower(x).as_text('hlo'))"
   ]
  },
  {
   "cell_type": "code",
   "execution_count": 134,
   "metadata": {},
   "outputs": [
    {
     "name": "stdout",
     "output_type": "stream",
     "text": [
      "0.4.32.dev20240831\n"
     ]
    }
   ],
   "source": [
    "print(jax.__version__)"
   ]
  },
  {
   "cell_type": "code",
   "execution_count": 23,
   "metadata": {},
   "outputs": [],
   "source": [
    "from jax.experimental.pallas.ops.tpu import flash_attention"
   ]
  },
  {
   "cell_type": "code",
   "execution_count": 26,
   "metadata": {},
   "outputs": [
    {
     "ename": "AttributeError",
     "evalue": "DynamicJaxprTracer has no attribute q",
     "output_type": "error",
     "traceback": [
      "\u001b[0;31m---------------------------------------------------------------------------\u001b[0m",
      "\u001b[0;31mAttributeError\u001b[0m                            Traceback (most recent call last)",
      "File \u001b[0;32m~/.local/lib/python3.10/site-packages/jax/_src/core.py:815\u001b[0m, in \u001b[0;36mTracer.__getattr__\u001b[0;34m(self, name)\u001b[0m\n\u001b[1;32m    814\u001b[0m \u001b[38;5;28;01mtry\u001b[39;00m:\n\u001b[0;32m--> 815\u001b[0m   attr \u001b[38;5;241m=\u001b[39m \u001b[38;5;28;43mgetattr\u001b[39;49m\u001b[43m(\u001b[49m\u001b[38;5;28;43mself\u001b[39;49m\u001b[38;5;241;43m.\u001b[39;49m\u001b[43maval\u001b[49m\u001b[43m,\u001b[49m\u001b[43m \u001b[49m\u001b[43mname\u001b[49m\u001b[43m)\u001b[49m\n\u001b[1;32m    816\u001b[0m \u001b[38;5;28;01mexcept\u001b[39;00m \u001b[38;5;167;01mAttributeError\u001b[39;00m \u001b[38;5;28;01mas\u001b[39;00m err:\n",
      "\u001b[0;31mAttributeError\u001b[0m: 'ShapedArray' object has no attribute 'q'",
      "\nThe above exception was the direct cause of the following exception:\n",
      "\u001b[0;31mAttributeError\u001b[0m                            Traceback (most recent call last)",
      "Cell \u001b[0;32mIn[26], line 13\u001b[0m\n\u001b[1;32m     10\u001b[0m q_segment_ids \u001b[38;5;241m=\u001b[39m jax\u001b[38;5;241m.\u001b[39mrandom\u001b[38;5;241m.\u001b[39mrandint(key4, (batch, q_seq_len), \u001b[38;5;241m0\u001b[39m, \u001b[38;5;241m2\u001b[39m)\n\u001b[1;32m     11\u001b[0m kv_segment_ids \u001b[38;5;241m=\u001b[39m jax\u001b[38;5;241m.\u001b[39mrandom\u001b[38;5;241m.\u001b[39mrandint(key5, (batch, kv_seq_len), \u001b[38;5;241m0\u001b[39m, \u001b[38;5;241m2\u001b[39m)\n\u001b[0;32m---> 13\u001b[0m \u001b[43mflash_attention\u001b[49m\u001b[38;5;241;43m.\u001b[39;49m\u001b[43mflash_attention\u001b[49m\u001b[43m(\u001b[49m\u001b[43mq\u001b[49m\u001b[43m,\u001b[49m\u001b[43m \u001b[49m\u001b[43mk\u001b[49m\u001b[43m,\u001b[49m\u001b[43m \u001b[49m\u001b[43mv\u001b[49m\u001b[43m,\u001b[49m\u001b[43m \u001b[49m\u001b[43msegment_ids\u001b[49m\u001b[38;5;241;43m=\u001b[39;49m\u001b[43mq_segment_ids\u001b[49m\u001b[43m,\u001b[49m\u001b[43m \u001b[49m\u001b[43mcausal\u001b[49m\u001b[38;5;241;43m=\u001b[39;49m\u001b[38;5;28;43;01mTrue\u001b[39;49;00m\u001b[43m)\u001b[49m\n",
      "    \u001b[0;31m[... skipping hidden 11 frame]\u001b[0m\n",
      "File \u001b[0;32m~/.local/lib/python3.10/site-packages/jax/experimental/pallas/ops/tpu/flash_attention.py:184\u001b[0m, in \u001b[0;36mflash_attention\u001b[0;34m(q, k, v, ab, segment_ids, causal, sm_scale, block_sizes, debug)\u001b[0m\n\u001b[1;32m    179\u001b[0m     \u001b[38;5;28;01mraise\u001b[39;00m \u001b[38;5;167;01mValueError\u001b[39;00m(\n\u001b[1;32m    180\u001b[0m         \u001b[38;5;124mf\u001b[39m\u001b[38;5;124m\"\u001b[39m\u001b[38;5;124mAttention bias shape mismatch: expected (\u001b[39m\u001b[38;5;132;01m{\u001b[39;00mbatch_size\u001b[38;5;132;01m=}\u001b[39;00m\u001b[38;5;124m,\u001b[39m\u001b[38;5;124m\"\u001b[39m\n\u001b[1;32m    181\u001b[0m         \u001b[38;5;124mf\u001b[39m\u001b[38;5;124m\"\u001b[39m\u001b[38;5;124m \u001b[39m\u001b[38;5;132;01m{\u001b[39;00mnum_heads\u001b[38;5;132;01m=}\u001b[39;00m\u001b[38;5;124m, \u001b[39m\u001b[38;5;132;01m{\u001b[39;00mq_seq_len\u001b[38;5;132;01m=}\u001b[39;00m\u001b[38;5;124m, \u001b[39m\u001b[38;5;132;01m{\u001b[39;00mkv_seq_len\u001b[38;5;132;01m=}\u001b[39;00m\u001b[38;5;124m), got \u001b[39m\u001b[38;5;132;01m{\u001b[39;00mab\u001b[38;5;241m.\u001b[39mshape\u001b[38;5;132;01m}\u001b[39;00m\u001b[38;5;124m\"\u001b[39m\n\u001b[1;32m    182\u001b[0m     )\n\u001b[1;32m    183\u001b[0m \u001b[38;5;28;01mif\u001b[39;00m segment_ids \u001b[38;5;129;01mis\u001b[39;00m \u001b[38;5;129;01mnot\u001b[39;00m \u001b[38;5;28;01mNone\u001b[39;00m:\n\u001b[0;32m--> 184\u001b[0m   \u001b[38;5;28;01mif\u001b[39;00m \u001b[43msegment_ids\u001b[49m\u001b[38;5;241;43m.\u001b[39;49m\u001b[43mq\u001b[49m\u001b[38;5;241m.\u001b[39mshape \u001b[38;5;241m!=\u001b[39m (batch_size, q_seq_len):\n\u001b[1;32m    185\u001b[0m     \u001b[38;5;28;01mraise\u001b[39;00m \u001b[38;5;167;01mValueError\u001b[39;00m(\n\u001b[1;32m    186\u001b[0m         \u001b[38;5;124mf\u001b[39m\u001b[38;5;124m\"\u001b[39m\u001b[38;5;124mQ segment ids shape mismatch: expected (\u001b[39m\u001b[38;5;132;01m{\u001b[39;00mbatch_size\u001b[38;5;132;01m=}\u001b[39;00m\u001b[38;5;124m,\u001b[39m\u001b[38;5;124m\"\u001b[39m\n\u001b[1;32m    187\u001b[0m         \u001b[38;5;124mf\u001b[39m\u001b[38;5;124m\"\u001b[39m\u001b[38;5;124m \u001b[39m\u001b[38;5;132;01m{\u001b[39;00mq_seq_len\u001b[38;5;132;01m=}\u001b[39;00m\u001b[38;5;124m,), got \u001b[39m\u001b[38;5;132;01m{\u001b[39;00msegment_ids\u001b[38;5;241m.\u001b[39mq\u001b[38;5;241m.\u001b[39mshape\u001b[38;5;132;01m}\u001b[39;00m\u001b[38;5;124m\"\u001b[39m\n\u001b[1;32m    188\u001b[0m     )\n\u001b[1;32m    189\u001b[0m   \u001b[38;5;28;01mif\u001b[39;00m segment_ids\u001b[38;5;241m.\u001b[39mkv\u001b[38;5;241m.\u001b[39mshape \u001b[38;5;241m!=\u001b[39m (batch_size, kv_seq_len):\n",
      "File \u001b[0;32m~/.local/lib/python3.10/site-packages/jax/_src/core.py:817\u001b[0m, in \u001b[0;36mTracer.__getattr__\u001b[0;34m(self, name)\u001b[0m\n\u001b[1;32m    815\u001b[0m   attr \u001b[38;5;241m=\u001b[39m \u001b[38;5;28mgetattr\u001b[39m(\u001b[38;5;28mself\u001b[39m\u001b[38;5;241m.\u001b[39maval, name)\n\u001b[1;32m    816\u001b[0m \u001b[38;5;28;01mexcept\u001b[39;00m \u001b[38;5;167;01mAttributeError\u001b[39;00m \u001b[38;5;28;01mas\u001b[39;00m err:\n\u001b[0;32m--> 817\u001b[0m   \u001b[38;5;28;01mraise\u001b[39;00m \u001b[38;5;167;01mAttributeError\u001b[39;00m(\n\u001b[1;32m    818\u001b[0m       \u001b[38;5;124mf\u001b[39m\u001b[38;5;124m\"\u001b[39m\u001b[38;5;132;01m{\u001b[39;00m\u001b[38;5;28mself\u001b[39m\u001b[38;5;241m.\u001b[39m\u001b[38;5;18m__class__\u001b[39m\u001b[38;5;241m.\u001b[39m\u001b[38;5;18m__name__\u001b[39m\u001b[38;5;132;01m}\u001b[39;00m\u001b[38;5;124m has no attribute \u001b[39m\u001b[38;5;132;01m{\u001b[39;00mname\u001b[38;5;132;01m}\u001b[39;00m\u001b[38;5;124m\"\u001b[39m\n\u001b[1;32m    819\u001b[0m   ) \u001b[38;5;28;01mfrom\u001b[39;00m \u001b[38;5;21;01merr\u001b[39;00m\n\u001b[1;32m    820\u001b[0m \u001b[38;5;28;01melse\u001b[39;00m:\n\u001b[1;32m    821\u001b[0m   t \u001b[38;5;241m=\u001b[39m \u001b[38;5;28mtype\u001b[39m(attr)\n",
      "\u001b[0;31mAttributeError\u001b[0m: DynamicJaxprTracer has no attribute q"
     ]
    }
   ],
   "source": [
    "batch = 4\n",
    "num_heads = 8\n",
    "q_seq_len = 4096\n",
    "kv_seq_len = 4096\n",
    "key_size = 256\n",
    "key1, key2, key3, key4, key5 = jax.random.split(jax.random.PRNGKey(0), 5)\n",
    "q = jax.random.normal(key1, (batch, num_heads, q_seq_len, key_size))\n",
    "k = jax.random.normal(key2, (batch, num_heads, kv_seq_len, key_size))\n",
    "v = jax.random.normal(key3, (batch, num_heads, kv_seq_len, key_size))\n",
    "q_segment_ids = jax.random.randint(key4, (batch, q_seq_len), 0, 2)\n",
    "kv_segment_ids = jax.random.randint(key5, (batch, kv_seq_len), 0, 2)\n",
    "segment_ids = flash_attention.segmentIds(q_segment_ids, kv_segment_ids)\n",
    "flash_attention.flash_attention(q, k, v, segment_ids=segment_ids, causal=True)"
   ]
  },
  {
   "cell_type": "code",
   "execution_count": null,
   "metadata": {},
   "outputs": [],
   "source": []
  }
 ],
 "metadata": {
  "kernelspec": {
   "display_name": "Python 3",
   "language": "python",
   "name": "python3"
  },
  "language_info": {
   "codemirror_mode": {
    "name": "ipython",
    "version": 3
   },
   "file_extension": ".py",
   "mimetype": "text/x-python",
   "name": "python",
   "nbconvert_exporter": "python",
   "pygments_lexer": "ipython3",
   "version": "3.10.6"
  }
 },
 "nbformat": 4,
 "nbformat_minor": 2
}
