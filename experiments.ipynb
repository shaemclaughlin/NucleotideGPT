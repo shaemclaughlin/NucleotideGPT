{
 "cells": [
  {
   "cell_type": "code",
   "execution_count": 17,
   "metadata": {},
   "outputs": [
    {
     "name": "stderr",
     "output_type": "stream",
     "text": [
      "2024-09-01 22:08:17.028819: E external/local_xla/xla/stream_executor/cuda/cuda_fft.cc:485] Unable to register cuFFT factory: Attempting to register factory for plugin cuFFT when one has already been registered\n",
      "2024-09-01 22:08:17.087096: E external/local_xla/xla/stream_executor/cuda/cuda_dnn.cc:8454] Unable to register cuDNN factory: Attempting to register factory for plugin cuDNN when one has already been registered\n",
      "2024-09-01 22:08:17.104638: E external/local_xla/xla/stream_executor/cuda/cuda_blas.cc:1452] Unable to register cuBLAS factory: Attempting to register factory for plugin cuBLAS when one has already been registered\n",
      "2024-09-01 22:08:18.838991: W tensorflow/compiler/tf2tensorrt/utils/py_utils.cc:38] TF-TRT Warning: Could not find TensorRT\n"
     ]
    }
   ],
   "source": [
    "import jax\n",
    "import projects.charformer.data as data\n",
    "from importlib import reload\n",
    "data = reload(data)\n",
    "import sys\n",
    "import numpy\n",
    "import jax\n",
    "import jax.numpy as jnp\n",
    "numpy.set_printoptions(threshold=sys.maxsize)\n",
    "# %pip install tqdm\n"
   ]
  },
  {
   "cell_type": "code",
   "execution_count": 18,
   "metadata": {},
   "outputs": [
    {
     "data": {
      "text/plain": [
       "[TpuDevice(id=0, process_index=0, coords=(0,0,0), core_on_chip=0),\n",
       " TpuDevice(id=1, process_index=0, coords=(0,0,0), core_on_chip=1),\n",
       " TpuDevice(id=2, process_index=0, coords=(1,0,0), core_on_chip=0),\n",
       " TpuDevice(id=3, process_index=0, coords=(1,0,0), core_on_chip=1),\n",
       " TpuDevice(id=4, process_index=0, coords=(0,1,0), core_on_chip=0),\n",
       " TpuDevice(id=5, process_index=0, coords=(0,1,0), core_on_chip=1),\n",
       " TpuDevice(id=6, process_index=0, coords=(1,1,0), core_on_chip=0),\n",
       " TpuDevice(id=7, process_index=0, coords=(1,1,0), core_on_chip=1)]"
      ]
     },
     "execution_count": 18,
     "metadata": {},
     "output_type": "execute_result"
    }
   ],
   "source": [
    "jax.devices()"
   ]
  },
  {
   "cell_type": "code",
   "execution_count": 19,
   "metadata": {},
   "outputs": [],
   "source": [
    "ds = data.CharDataset(data.CharDataset.get_default_config())"
   ]
  },
  {
   "cell_type": "code",
   "execution_count": 20,
   "metadata": {},
   "outputs": [],
   "source": [
    "# !  wget https://huggingface.co/datasets/roneneldan/TinyStories/resolve/main/TinyStoriesV2-GPT4-train.txt"
   ]
  },
  {
   "cell_type": "code",
   "execution_count": 21,
   "metadata": {},
   "outputs": [
    {
     "ename": "FileNotFoundError",
     "evalue": "[Errno 2] No such file or directory: 'projects/charformer/TinyStoriesV2-GPT4-train.txt'",
     "output_type": "error",
     "traceback": [
      "\u001b[0;31m---------------------------------------------------------------------------\u001b[0m",
      "\u001b[0;31mFileNotFoundError\u001b[0m                         Traceback (most recent call last)",
      "Cell \u001b[0;32mIn[21], line 1\u001b[0m\n\u001b[0;32m----> 1\u001b[0m \u001b[43mds\u001b[49m\u001b[38;5;241;43m.\u001b[39;49m\u001b[43mcreate_packed_records\u001b[49m\u001b[43m(\u001b[49m\u001b[43minput_file_path\u001b[49m\u001b[38;5;241;43m=\u001b[39;49m\u001b[38;5;124;43m'\u001b[39;49m\u001b[38;5;124;43mprojects/charformer/TinyStoriesV2-GPT4-train.txt\u001b[39;49m\u001b[38;5;124;43m'\u001b[39;49m\u001b[43m,\u001b[49m\u001b[43m \u001b[49m\u001b[43moutput_dir\u001b[49m\u001b[38;5;241;43m=\u001b[39;49m\u001b[38;5;124;43m'\u001b[39;49m\u001b[38;5;124;43mprojects/charformer/data/tfrecords/\u001b[39;49m\u001b[38;5;124;43m'\u001b[39;49m\u001b[43m,\u001b[49m\u001b[43m \u001b[49m\u001b[43mcustom_delimiter\u001b[49m\u001b[38;5;241;43m=\u001b[39;49m\u001b[38;5;124;43m'\u001b[39;49m\u001b[38;5;124;43m<|endoftext|>\u001b[39;49m\u001b[38;5;124;43m'\u001b[39;49m\u001b[43m)\u001b[49m\n",
      "File \u001b[0;32m~/minformer/projects/charformer/data.py:79\u001b[0m, in \u001b[0;36mCharDataset.create_packed_records\u001b[0;34m(self, input_file_path, output_dir, custom_delimiter)\u001b[0m\n\u001b[1;32m     72\u001b[0m     example \u001b[38;5;241m=\u001b[39m tf\u001b[38;5;241m.\u001b[39mtrain\u001b[38;5;241m.\u001b[39mExample(features\u001b[38;5;241m=\u001b[39mtf\u001b[38;5;241m.\u001b[39mtrain\u001b[38;5;241m.\u001b[39mFeatures(feature\u001b[38;5;241m=\u001b[39m{\n\u001b[1;32m     73\u001b[0m         \u001b[38;5;124m'\u001b[39m\u001b[38;5;124mx\u001b[39m\u001b[38;5;124m'\u001b[39m: tf\u001b[38;5;241m.\u001b[39mtrain\u001b[38;5;241m.\u001b[39mFeature(int64_list\u001b[38;5;241m=\u001b[39mtf\u001b[38;5;241m.\u001b[39mtrain\u001b[38;5;241m.\u001b[39mInt64List(value\u001b[38;5;241m=\u001b[39mx)),\n\u001b[1;32m     74\u001b[0m         \u001b[38;5;124m'\u001b[39m\u001b[38;5;124my\u001b[39m\u001b[38;5;124m'\u001b[39m: tf\u001b[38;5;241m.\u001b[39mtrain\u001b[38;5;241m.\u001b[39mFeature(int64_list\u001b[38;5;241m=\u001b[39mtf\u001b[38;5;241m.\u001b[39mtrain\u001b[38;5;241m.\u001b[39mInt64List(value\u001b[38;5;241m=\u001b[39my)),\n\u001b[1;32m     75\u001b[0m         \u001b[38;5;124m'\u001b[39m\u001b[38;5;124msegment_ids\u001b[39m\u001b[38;5;124m'\u001b[39m: tf\u001b[38;5;241m.\u001b[39mtrain\u001b[38;5;241m.\u001b[39mFeature(int64_list\u001b[38;5;241m=\u001b[39mtf\u001b[38;5;241m.\u001b[39mtrain\u001b[38;5;241m.\u001b[39mInt64List(value\u001b[38;5;241m=\u001b[39msegment_ids))\n\u001b[1;32m     76\u001b[0m     }))\n\u001b[1;32m     77\u001b[0m     writer\u001b[38;5;241m.\u001b[39mwrite(example\u001b[38;5;241m.\u001b[39mSerializeToString())\n\u001b[0;32m---> 79\u001b[0m \u001b[38;5;28;01mwith\u001b[39;00m \u001b[38;5;28;43mopen\u001b[39;49m\u001b[43m(\u001b[49m\u001b[43minput_file_path\u001b[49m\u001b[43m,\u001b[49m\u001b[43m \u001b[49m\u001b[38;5;124;43m'\u001b[39;49m\u001b[38;5;124;43mr\u001b[39;49m\u001b[38;5;124;43m'\u001b[39;49m\u001b[43m)\u001b[49m \u001b[38;5;28;01mas\u001b[39;00m file:\n\u001b[1;32m     80\u001b[0m     \u001b[38;5;28;01mfor\u001b[39;00m i, line \u001b[38;5;129;01min\u001b[39;00m tqdm\u001b[38;5;241m.\u001b[39mtqdm(\u001b[38;5;28menumerate\u001b[39m(file)):\n\u001b[1;32m     82\u001b[0m         \u001b[38;5;28;01mif\u001b[39;00m custom_delimiter \u001b[38;5;129;01min\u001b[39;00m line:\n\u001b[1;32m     83\u001b[0m             \u001b[38;5;66;03m# If we see the end token.\u001b[39;00m\n",
      "\u001b[0;31mFileNotFoundError\u001b[0m: [Errno 2] No such file or directory: 'projects/charformer/TinyStoriesV2-GPT4-train.txt'"
     ]
    }
   ],
   "source": [
    "ds.create_packed_records(input_file_path='projects/charformer/TinyStoriesV2-GPT4-train.txt', output_dir='projects/charformer/data/tfrecords/', custom_delimiter='<|endoftext|>')"
   ]
  },
  {
   "cell_type": "code",
   "execution_count": 22,
   "metadata": {},
   "outputs": [],
   "source": [
    "retokenized = ds.load_and_retokenize_tfrecord(file_path='projects/charformer/data/tfrecords/record_40.tfrecord')"
   ]
  },
  {
   "cell_type": "code",
   "execution_count": 23,
   "metadata": {},
   "outputs": [
    {
     "name": "stdout",
     "output_type": "stream",
     "text": [
      "One day, a little bug named Tim went for a walk. It was a cold day, and he saw a big tree. Tim thought the tree would be a good place to stay warm. Inside the tree, he found a small room with a cobweb in the corner.\n",
      "Tim saw another bug in the room. She was a spider named Sue. Sue said, \"Hi, Tim! Do you like my cobweb?\" Tim said, \"Yes, it is very nice.\" Sue told Tim that she had a big fruit in the other room. \"But it is old and starting to rot,\" she said. \"We should eat it soon.\"\n",
      "The next day, Tim and Sue went to the other room to eat the fruit. They saw that it was very big and smelled bad. Tim said, \"Oh no, the fruit is all rotten!\" Sue said, \"That's okay, we can still eat it.\" They ate the fruit and felt warm and happy. The cold day did not bother them anymore.\n",
      "<|endoftext|\n",
      "Once upon a time, there was a little bathtub. The bathtub lived in a dark room. The bathtub was sad because it was always alone.\n",
      "One day, a little girl named Lucy came into the room. She saw the bathtub and said, \"Hello bathtub! Why are you in this dark room? Let's play a game!\" The bathtub was very happy to have a friend.\n",
      "Lucy and the bathtub played a game. They had to number the toys. \"One, two, three,\" said Lucy. \"We have three toys!\" The bathtub was happy to play with Lucy. They played until it was time for Lucy to go to bed. The bathtub was no longer sad, and it was not dark anymore because Lucy brought light and love into the room.\n",
      "<|endoftext|\n",
      "\n",
      "Once upon a time, there was a humble squirrel named Gary. Every day, Gary would spread love and happiness to the animals of the forest. The animals loved Gary very much and would do anything to help him.\n",
      "One day, Gary was feeling very thirsty. So he decided to visit a nearby lake to quench his thirst. As he was about to take a sip, he heard a voice.\n",
      "<unk>Why on earth would you drink from this lake? It<unk>s full of bugs and sludge!<unk> said the voice.\n",
      "Gary looked around and saw a wise old owl perched on a tree. <unk>You should come over to my lake,<unk> the owl said, <unk>It<unk>s much cleaner, and the water is like silk!<unk>\n",
      "Gary thought the idea sounded great, and so he followed the owl to the other lake. He quickly dunked his head under and soaked himself in the clean water. It was so refreshing, he decided to stay in the lake all day!\n",
      "At this, the owl chuckled and said, <unk>You are always so humble, Gary. I knew you<unk>d love this lake, so I wanted to surprise you by showing it to you.<unk>\n",
      "Gary had learned his lesson. From then on, he would always remember to be humble and listen to the wise advice of others. \n",
      "<|endoftext|\n",
      "Once upon a time, there was a brilliant cat named Bob. Bob loved to play with his ball all day. One day, Bob's ball rolled into the street. Bob was scared to go get it.\n",
      "Just then, a kind dog named Sam saw Bob. \"What's wrong, Bob?\" Sam asked. \"My ball is in the street, and I can't get it,\" said Bob. Sam had an idea. \"I can help you, Bob!\" Sam said.\n",
      "Sam ran into the street and got the ball for Bob. But suddenly, they heard a loud noise. It was an emergency! A big truck was coming fast. Sam threw the ball to Bob and ran back just in time. The truck did not hit Sam. In the end, Bob and Sam were safe, and they played with the ball together. They were very happy.\n",
      "<|endoftext|\n"
     ]
    }
   ],
   "source": [
    "for r in retokenized:\n",
    "    print(r)"
   ]
  },
  {
   "cell_type": "code",
   "execution_count": 24,
   "metadata": {},
   "outputs": [],
   "source": [
    "iter = ds.create_iterator('projects/charformer/data/tfrecords/record_*.tfrecord', batch_size=8)"
   ]
  },
  {
   "cell_type": "code",
   "execution_count": 25,
   "metadata": {},
   "outputs": [],
   "source": [
    "batch = next(iter)"
   ]
  },
  {
   "cell_type": "code",
   "execution_count": 103,
   "metadata": {},
   "outputs": [],
   "source": [
    "import minformer.model as model\n",
    "import functools\n",
    "model = reload(model)"
   ]
  },
  {
   "cell_type": "code",
   "execution_count": 111,
   "metadata": {},
   "outputs": [],
   "source": [
    "cfg = model.Config(\n",
    "    d_model=1024,\n",
    "    ffw_multiplier=4,\n",
    "    query_heads=8,\n",
    "    key_heads=8,\n",
    "    num_layers=8,\n",
    "    key_dim=16,\n",
    "    vocab_size=256,\n",
    "    causal=True,\n",
    "    use_attn_kernel=True,\n",
    "    rules=model.fsdp_rules,\n",
    "    mesh=model.create_mesh()\n",
    ")"
   ]
  },
  {
   "cell_type": "code",
   "execution_count": 112,
   "metadata": {},
   "outputs": [],
   "source": [
    "weights = model.Weights.init(cfg, jax.random.PRNGKey(0), cfg.mesh, model.fsdp_rules)"
   ]
  },
  {
   "cell_type": "code",
   "execution_count": 113,
   "metadata": {},
   "outputs": [
    {
     "data": {
      "text/plain": [
       "0.035135488"
      ]
     },
     "execution_count": 113,
     "metadata": {},
     "output_type": "execute_result"
    }
   ],
   "source": [
    "\n",
    "import math\n",
    "sum(jax.tree.leaves(jax.tree.map(lambda x: math.prod(jnp.shape(x)), weights))) / 1e9"
   ]
  },
  {
   "cell_type": "code",
   "execution_count": 114,
   "metadata": {},
   "outputs": [],
   "source": [
    "# jax.tree.map(lambda w: print(w.shape, w.dtype, jnp.mean(w)), weights)"
   ]
  },
  {
   "cell_type": "code",
   "execution_count": 115,
   "metadata": {},
   "outputs": [],
   "source": [
    "step = jax.jit(model.update_step, static_argnames='cfg')\n",
    "step = functools.partial(step, cfg=cfg)"
   ]
  },
  {
   "cell_type": "code",
   "execution_count": 116,
   "metadata": {},
   "outputs": [
    {
     "data": {
      "text/plain": [
       "(8, 4096)"
      ]
     },
     "execution_count": 116,
     "metadata": {},
     "output_type": "execute_result"
    }
   ],
   "source": [
    "batch['segment_ids'].shape"
   ]
  },
  {
   "cell_type": "code",
   "execution_count": 117,
   "metadata": {},
   "outputs": [],
   "source": [
    "loss, weights = step(weights, batch['x'], batch['segment_ids'], batch['y'])"
   ]
  },
  {
   "cell_type": "code",
   "execution_count": 118,
   "metadata": {},
   "outputs": [
    {
     "name": "stdout",
     "output_type": "stream",
     "text": [
      "8.0886965\n",
      "7.8215375\n",
      "7.5749617\n",
      "7.3384504\n",
      "7.116937\n",
      "6.903502\n",
      "6.6988564\n",
      "6.5027857\n",
      "6.3136754\n",
      "6.139119\n"
     ]
    }
   ],
   "source": [
    "# Does loss go down!\n",
    "for i in range(0, 10):\n",
    "    loss, weights = step(weights, batch['x'], batch['segment_ids'], batch['y'])\n",
    "    print(loss)"
   ]
  },
  {
   "cell_type": "code",
   "execution_count": 60,
   "metadata": {},
   "outputs": [
    {
     "data": {
      "text/plain": [
       "PartitionSpec('x', None)"
      ]
     },
     "execution_count": 60,
     "metadata": {},
     "output_type": "execute_result"
    }
   ],
   "source": [
    "rules = {\n",
    "    'd': 'x',\n",
    "    'f': None}\n",
    "pspec = jax.sharding.PartitionSpec('d', 'f')\n",
    "\n",
    "x = jax.sharding.PartitionSpec(*(rules[l] for l in pspec))\n",
    "x"
   ]
  },
  {
   "cell_type": "code",
   "execution_count": 46,
   "metadata": {},
   "outputs": [
    {
     "name": "stdout",
     "output_type": "stream",
     "text": [
      "HloModule jit_f, entry_computation_layout={(f32[8,8]{1,0})->f32[8,8]{1,0}}, frontend_attributes={xla.sdy.meshes={}}\n",
      "\n",
      "ENTRY main.6 {\n",
      "  Arg_0.1 = f32[8,8]{1,0} parameter(0)\n",
      "  dot.4 = f32[8,8]{1,0} dot(Arg_0.1, Arg_0.1), lhs_contracting_dims={1}, rhs_contracting_dims={0}\n",
      "  constant.2 = f32[] constant(1)\n",
      "  broadcast.3 = f32[8,8]{1,0} broadcast(constant.2), dimensions={}\n",
      "  ROOT add.5 = f32[8,8]{1,0} add(dot.4, broadcast.3)\n",
      "}\n",
      "\n",
      "\n"
     ]
    }
   ],
   "source": [
    "\n",
    "def f(x):\n",
    "    y = x @ x\n",
    "    y = jax.lax.with_sharding_constraint(y, shardings=jax.sharding.NamedSharding(mesh, ('x', 'y')))\n",
    "    y += 1\n",
    "    return y\n",
    "\n",
    "x = jnp.ones((8, 8))\n",
    "\n",
    "print(jax.jit(f).lower(x).as_text('hlo'))"
   ]
  },
  {
   "cell_type": "code",
   "execution_count": 134,
   "metadata": {},
   "outputs": [
    {
     "name": "stdout",
     "output_type": "stream",
     "text": [
      "0.4.32.dev20240831\n"
     ]
    }
   ],
   "source": [
    "print(jax.__version__)"
   ]
  },
  {
   "cell_type": "code",
   "execution_count": 4,
   "metadata": {},
   "outputs": [],
   "source": [
    "from jax.experimental.pallas.ops.tpu import flash_attention"
   ]
  },
  {
   "cell_type": "code",
   "execution_count": 8,
   "metadata": {},
   "outputs": [
    {
     "data": {
      "text/plain": [
       "Array([[[[ 4.37500000e-01, -4.51171875e-01,  1.90625000e+00, ...,\n",
       "          -1.26562500e+00,  2.69531250e-01,  5.97656250e-01],\n",
       "         [ 4.37500000e-01, -4.51171875e-01,  1.90625000e+00, ...,\n",
       "          -1.26562500e+00,  2.69531250e-01,  5.97656250e-01],\n",
       "         [ 4.37500000e-01, -4.51171875e-01,  1.90625000e+00, ...,\n",
       "          -1.26562500e+00,  2.69531250e-01,  5.97656250e-01],\n",
       "         ...,\n",
       "         [-1.79270184e+00, -9.00238633e-01,  1.17744589e+00, ...,\n",
       "          -1.25635004e+00, -1.52953541e+00,  2.41711688e+00],\n",
       "         [ 5.43850839e-01,  6.42475843e-01,  1.33804083e-01, ...,\n",
       "           1.36632419e+00,  3.25035095e-01,  8.06720734e-01],\n",
       "         [-4.04746294e-01, -5.18119752e-01, -5.59119105e-01, ...,\n",
       "           3.79983574e-01,  1.83797240e+00, -7.52215564e-01]],\n",
       "\n",
       "        [[-8.94531250e-01, -1.49414062e-01,  6.54296875e-02, ...,\n",
       "           1.29687500e+00,  3.96484375e-01, -4.51171875e-01],\n",
       "         [-8.94531250e-01, -1.49414062e-01,  6.54296875e-02, ...,\n",
       "           1.29687500e+00,  3.96484375e-01, -4.51171875e-01],\n",
       "         [-8.94531250e-01, -1.49414062e-01,  6.54296875e-02, ...,\n",
       "           1.29687500e+00,  3.96484375e-01, -4.51171875e-01],\n",
       "         ...,\n",
       "         [-4.15892392e-01, -4.22043175e-01,  6.10510826e-01, ...,\n",
       "          -9.73820090e-01, -1.52587128e+00, -4.57097828e-01],\n",
       "         [ 2.61475563e+00, -3.65226507e-01,  7.74145305e-01, ...,\n",
       "          -5.68476558e-01,  1.36190319e+00, -2.09938288e+00],\n",
       "         [ 7.65338317e-02, -1.31960177e+00, -1.07025802e+00, ...,\n",
       "           1.71814218e-01,  2.07743809e-01,  2.83031195e-01]],\n",
       "\n",
       "        [[-3.32031250e-01, -2.67578125e-01,  3.51562500e-01, ...,\n",
       "           7.89062500e-01, -7.73437500e-01,  1.31250000e+00],\n",
       "         [-3.32031250e-01, -2.67578125e-01,  3.51562500e-01, ...,\n",
       "           7.89062500e-01, -7.73437500e-01,  1.31250000e+00],\n",
       "         [-3.32031250e-01, -2.67578125e-01,  3.51562500e-01, ...,\n",
       "           7.89062500e-01, -7.73437500e-01,  1.31250000e+00],\n",
       "         ...,\n",
       "         [ 9.42481458e-02, -3.92156869e-01, -6.01792634e-01, ...,\n",
       "          -1.61047518e+00, -4.59879458e-01,  2.55371202e-02],\n",
       "         [ 2.68491656e-01,  1.60737976e-01, -3.92322540e-01, ...,\n",
       "          -3.46716821e-01, -1.61893338e-01, -6.37699887e-02],\n",
       "         [ 5.07810175e-01,  5.19961379e-02, -1.55265868e-01, ...,\n",
       "          -1.07030416e+00, -1.44543752e-01,  9.76548851e-01]],\n",
       "\n",
       "        ...,\n",
       "\n",
       "        [[-8.30078125e-02, -1.39648438e-01, -1.23437500e+00, ...,\n",
       "           3.49609375e-01,  1.28125000e+00,  4.86328125e-01],\n",
       "         [-8.30078125e-02, -1.39648438e-01, -1.23437500e+00, ...,\n",
       "           3.49609375e-01,  1.28125000e+00,  4.86328125e-01],\n",
       "         [-8.30078125e-02, -1.39648438e-01, -1.23437500e+00, ...,\n",
       "           3.49609375e-01,  1.28125000e+00,  4.86328125e-01],\n",
       "         ...,\n",
       "         [ 4.90009546e-01,  6.13129020e-01,  2.10763991e-01, ...,\n",
       "          -1.13203019e-01, -1.73760402e+00,  2.09810317e-01],\n",
       "         [-2.24509254e-01,  6.88371480e-01,  1.17391191e-01, ...,\n",
       "           1.29936948e-01,  1.96790910e+00, -7.81589687e-01],\n",
       "         [-1.07980824e+00, -3.69896501e-01, -2.76675135e-01, ...,\n",
       "           2.47152731e-01,  4.26696718e-01,  8.35072339e-01]],\n",
       "\n",
       "        [[ 1.17968750e+00, -1.40625000e+00,  5.82031250e-01, ...,\n",
       "           3.22265625e-01,  4.43359375e-01, -6.99218750e-01],\n",
       "         [ 1.17968750e+00, -1.40625000e+00,  5.82031250e-01, ...,\n",
       "           3.22265625e-01,  4.43359375e-01, -6.99218750e-01],\n",
       "         [ 1.17968750e+00, -1.40625000e+00,  5.82031250e-01, ...,\n",
       "           3.22265625e-01,  4.43359375e-01, -6.99218750e-01],\n",
       "         ...,\n",
       "         [-1.14163053e+00, -8.94761443e-01, -5.08342147e-01, ...,\n",
       "          -8.34038436e-01, -7.41527081e-02,  1.55208898e+00],\n",
       "         [-1.21067977e+00, -9.95861411e-01, -1.52332199e+00, ...,\n",
       "           1.68724561e+00,  4.06293631e-01, -2.71604657e-01],\n",
       "         [ 2.39284858e-01,  5.94750941e-01,  6.79924369e-01, ...,\n",
       "          -5.12227714e-01, -5.84592700e-01,  1.66406715e+00]],\n",
       "\n",
       "        [[ 9.14062500e-01,  6.09375000e-01, -4.45312500e-01, ...,\n",
       "           1.28125000e+00, -1.43750000e+00,  2.19726562e-01],\n",
       "         [ 9.14062500e-01,  6.09375000e-01, -4.45312500e-01, ...,\n",
       "           1.28125000e+00, -1.43750000e+00,  2.19726562e-01],\n",
       "         [ 9.14062500e-01,  6.09375000e-01, -4.45312500e-01, ...,\n",
       "           1.28125000e+00, -1.43750000e+00,  2.19726562e-01],\n",
       "         ...,\n",
       "         [ 8.45097244e-01, -1.05828357e+00,  2.69088864e-01, ...,\n",
       "          -6.62509024e-01,  4.04912233e-01,  3.31389993e-01],\n",
       "         [-1.09966135e+00,  8.14335406e-01, -7.20253348e-01, ...,\n",
       "          -6.99538410e-01, -3.20375301e-02, -1.66102588e-01],\n",
       "         [ 5.75170219e-01,  1.79461491e+00, -9.52857494e-01, ...,\n",
       "           2.40015700e-01, -1.33043110e-01,  1.40385652e+00]]],\n",
       "\n",
       "\n",
       "       [[[ 1.70312500e+00,  2.73437500e-02,  1.58593750e+00, ...,\n",
       "           1.75781250e+00, -3.96484375e-01, -9.41406250e-01],\n",
       "         [ 1.70312500e+00,  2.73437500e-02,  1.58593750e+00, ...,\n",
       "           1.75781250e+00, -3.96484375e-01, -9.41406250e-01],\n",
       "         [-6.09375000e-01,  9.29687500e-01, -1.33593750e+00, ...,\n",
       "           1.69921875e-01, -7.50000000e-01, -1.32812500e-01],\n",
       "         ...,\n",
       "         [ 1.22432280e+00, -3.43439549e-01,  1.37010276e+00, ...,\n",
       "          -1.43439913e+00, -6.43545091e-01,  4.25014675e-01],\n",
       "         [ 9.59686041e-01, -1.54157519e+00, -1.04371226e+00, ...,\n",
       "          -2.12722987e-01,  7.81157464e-02,  1.32246077e-01],\n",
       "         [ 1.30025935e+00,  1.86944142e-01,  1.02588248e+00, ...,\n",
       "           6.11640792e-03, -5.35270214e-01,  3.00199449e-01]],\n",
       "\n",
       "        [[ 1.78906250e+00, -4.04296875e-01, -5.39062500e-01, ...,\n",
       "           1.93750000e+00, -8.04687500e-01,  1.27343750e+00],\n",
       "         [ 1.78906250e+00, -4.04296875e-01, -5.39062500e-01, ...,\n",
       "           1.93750000e+00, -8.04687500e-01,  1.27343750e+00],\n",
       "         [-1.40625000e+00,  9.41406250e-01,  7.07031250e-01, ...,\n",
       "           1.35937500e+00,  7.42187500e-01, -2.20703125e-01],\n",
       "         ...,\n",
       "         [-2.31184340e+00, -8.25490594e-01, -9.24305201e-01, ...,\n",
       "          -4.13511395e-01, -9.75013301e-02,  3.96794289e-01],\n",
       "         [-3.41775119e-01,  2.53116012e+00, -8.43707740e-01, ...,\n",
       "           4.47259933e-01,  2.89051235e-01, -3.29540707e-02],\n",
       "         [-3.83110523e-01,  6.23222329e-02, -1.80810773e+00, ...,\n",
       "          -9.85802263e-02,  1.05747640e+00,  6.33372426e-01]],\n",
       "\n",
       "        [[ 2.89062500e-01,  1.78125000e+00,  5.85937500e-01, ...,\n",
       "           9.41406250e-01,  5.35156250e-01,  4.25781250e-01],\n",
       "         [ 2.89062500e-01,  1.78125000e+00,  5.85937500e-01, ...,\n",
       "           9.41406250e-01,  5.35156250e-01,  4.25781250e-01],\n",
       "         [ 1.54296875e-01, -1.01562500e+00,  7.85156250e-01, ...,\n",
       "          -6.05468750e-01,  7.10937500e-01,  1.00781250e+00],\n",
       "         ...,\n",
       "         [ 1.01562119e+00,  6.48435652e-01, -1.45312202e+00, ...,\n",
       "          -2.04101056e-01,  4.58981961e-01,  2.07811904e+00],\n",
       "         [ 3.65571082e-01,  1.83020815e-01, -1.28354108e+00, ...,\n",
       "          -1.76647320e-01, -5.98099589e-01,  2.94926822e-01],\n",
       "         [ 2.25056872e-01,  8.96776855e-01,  8.04837883e-01, ...,\n",
       "           8.53049397e-01, -2.33411580e-01,  7.53824353e-01]],\n",
       "\n",
       "        ...,\n",
       "\n",
       "        [[-1.29687500e+00,  5.58593750e-01,  1.42578125e-01, ...,\n",
       "          -1.43750000e+00, -2.09960938e-01,  7.61718750e-01],\n",
       "         [-1.29687500e+00,  5.58593750e-01,  1.42578125e-01, ...,\n",
       "          -1.43750000e+00, -2.09960938e-01,  7.61718750e-01],\n",
       "         [-1.37500000e+00,  8.08593750e-01, -1.28125000e+00, ...,\n",
       "          -5.03906250e-01, -6.64062500e-01, -5.58593750e-01],\n",
       "         ...,\n",
       "         [ 5.49742579e-03, -4.25883889e-01, -4.41155821e-01, ...,\n",
       "           1.79604113e-01, -1.54658234e+00,  8.08325708e-01],\n",
       "         [ 2.95647681e-01, -8.18281770e-01,  1.03139853e+00, ...,\n",
       "           1.24829628e-01,  1.45166075e+00, -1.10199702e+00],\n",
       "         [ 9.03810337e-02,  3.42760563e-01, -1.45876813e+00, ...,\n",
       "          -1.06684649e+00,  3.89987856e-01,  7.43920207e-01]],\n",
       "\n",
       "        [[-2.55859375e-01, -1.93359375e-01, -1.14843750e+00, ...,\n",
       "          -1.79687500e+00, -1.29687500e+00,  2.10937500e+00],\n",
       "         [-2.55859375e-01, -1.93359375e-01, -1.14843750e+00, ...,\n",
       "          -1.79687500e+00, -1.29687500e+00,  2.10937500e+00],\n",
       "         [-2.71484375e-01,  1.51367188e-01,  1.65625000e+00, ...,\n",
       "          -5.83496094e-02, -7.57812500e-01,  1.75781250e+00],\n",
       "         ...,\n",
       "         [ 7.11903155e-01,  6.79494262e-01, -7.27588981e-02, ...,\n",
       "          -1.05859220e+00, -5.90418458e-01,  1.43572912e-01],\n",
       "         [ 6.17189169e-01, -1.82776082e+00, -5.81940174e-01, ...,\n",
       "          -1.24183500e+00, -8.50065872e-02,  1.42147338e+00],\n",
       "         [-1.29372925e-01,  5.45071065e-01,  1.28121960e+00, ...,\n",
       "          -7.14347005e-01,  2.50294268e-01,  6.49273634e-01]],\n",
       "\n",
       "        [[ 2.38281250e-01, -3.59375000e-01, -2.98828125e-01, ...,\n",
       "          -1.30468750e+00,  1.75781250e+00, -2.34375000e+00],\n",
       "         [ 2.38281250e-01, -3.59375000e-01, -2.98828125e-01, ...,\n",
       "          -1.30468750e+00,  1.75781250e+00, -2.34375000e+00],\n",
       "         [-1.28906250e+00, -5.58593750e-01,  4.06250000e-01, ...,\n",
       "          -6.13281250e-01, -1.48437500e+00,  6.67968750e-01],\n",
       "         ...,\n",
       "         [-4.38381314e-01,  1.36847115e+00,  1.01171434e+00, ...,\n",
       "           4.89564002e-01,  1.12847245e+00,  6.07753038e-01],\n",
       "         [-7.45466471e-01, -1.98463285e+00,  7.23888159e-01, ...,\n",
       "           3.75172235e-02, -1.24269807e+00,  8.83705735e-01],\n",
       "         [-1.08150220e+00,  1.42399740e+00,  1.02112666e-01, ...,\n",
       "           4.14273381e-01, -6.10125577e-03,  7.72531033e-01]]],\n",
       "\n",
       "\n",
       "       [[[ 2.07031250e-01,  4.66796875e-01,  1.48010254e-03, ...,\n",
       "           1.55273438e-01, -1.89062500e+00, -4.74609375e-01],\n",
       "         [-9.88269389e-01, -1.20310843e+00,  1.37693971e-01, ...,\n",
       "          -6.24992251e-01,  6.17162585e-01, -6.40623391e-01],\n",
       "         [ 1.18738616e+00,  2.47095928e-01,  1.07018840e+00, ...,\n",
       "           9.92090344e-01, -8.20437193e-01, -7.37771243e-02],\n",
       "         ...,\n",
       "         [ 2.39644909e+00, -1.18154037e+00, -1.71746388e-01, ...,\n",
       "           1.06961942e+00,  8.67777824e-01, -3.26838315e-01],\n",
       "         [ 4.03325230e-01, -5.78810632e-01,  1.95189714e+00, ...,\n",
       "          -7.23196268e-01,  2.70631671e-01, -6.32389903e-01],\n",
       "         [-1.12608242e+00, -1.00555435e-01, -6.23072386e-01, ...,\n",
       "          -2.57701159e+00,  8.10574412e-01, -7.21866548e-01]],\n",
       "\n",
       "        [[-9.88281250e-01, -7.51953125e-02,  1.13281250e+00, ...,\n",
       "          -4.37500000e-01,  8.59375000e-01,  3.02734375e-01],\n",
       "         [-9.88281250e-01, -7.51953125e-02,  1.13281250e+00, ...,\n",
       "          -4.37500000e-01,  8.59375000e-01,  3.02734375e-01],\n",
       "         [ 1.65674520e+00, -1.69405580e+00,  2.71557659e-01, ...,\n",
       "          -8.81441295e-01, -1.06888831e+00, -9.76135880e-02],\n",
       "         ...,\n",
       "         [ 3.07111472e-01, -7.13888407e-01, -1.67286992e-01, ...,\n",
       "          -1.35120049e-01,  2.79462654e-02, -5.61229825e-01],\n",
       "         [ 1.39513165e-01,  2.06960008e-01,  2.63658166e-02, ...,\n",
       "           8.30244482e-01, -4.71860975e-01,  5.23510158e-01],\n",
       "         [-9.84369040e-01, -3.16402406e-01, -3.16403687e-01, ...,\n",
       "          -7.57802725e-01,  4.64841127e-01, -9.10151124e-01]],\n",
       "\n",
       "        [[ 1.21875000e+00, -5.35156250e-01,  1.53906250e+00, ...,\n",
       "           2.25585938e-01, -1.52343750e+00,  5.46875000e-01],\n",
       "         [ 1.21335781e+00, -5.30121982e-01,  1.53616512e+00, ...,\n",
       "           2.25971147e-01, -1.51749516e+00,  5.49136877e-01],\n",
       "         [-5.02001226e-01,  1.07269275e+00,  6.16357565e-01, ...,\n",
       "           3.49197805e-01,  3.72503430e-01,  1.27096558e+00],\n",
       "         ...,\n",
       "         [-1.39712501e+00,  1.90924370e+00, -3.11556369e-01, ...,\n",
       "           5.69183588e-01,  2.02161875e-02,  2.17661001e-02],\n",
       "         [-8.27512503e-01, -1.61609352e+00, -1.34471953e+00, ...,\n",
       "           8.10984910e-01,  1.04623044e+00, -1.64102986e-02],\n",
       "         [-2.28222474e-01,  1.63712168e+00,  1.39445603e+00, ...,\n",
       "           2.29470253e-01, -9.80926633e-01,  1.63722157e-01]],\n",
       "\n",
       "        ...,\n",
       "\n",
       "        [[-5.00000000e-01,  2.85156250e-01,  3.32031250e-01, ...,\n",
       "          -8.55468750e-01, -1.37695312e-01, -5.15625000e-01],\n",
       "         [-5.00000000e-01,  2.85156250e-01,  3.32031250e-01, ...,\n",
       "          -8.55468750e-01, -1.37695312e-01, -5.15625000e-01],\n",
       "         [ 5.03189921e-01,  2.65763462e-01, -8.97267833e-02, ...,\n",
       "           1.43798208e+00,  6.43709540e-01,  4.48497161e-02],\n",
       "         ...,\n",
       "         [-6.77258596e-02,  1.68247789e-01, -3.37111235e-01, ...,\n",
       "          -7.23571181e-01,  1.62863750e-02, -1.19396091e+00],\n",
       "         [-3.00667107e-01, -1.82792997e+00, -2.57785857e-01, ...,\n",
       "          -2.91300505e-01,  1.12329580e-01, -4.92005467e-01],\n",
       "         [ 1.14321738e-01, -1.12890266e-01,  4.51892287e-01, ...,\n",
       "          -3.10340077e-02, -5.16982436e-01,  3.17623436e-01]],\n",
       "\n",
       "        [[-1.28173828e-02, -1.46875000e+00, -7.92968750e-01, ...,\n",
       "           6.83593750e-02,  7.46093750e-01, -9.80468750e-01],\n",
       "         [-1.28173782e-02, -1.46875000e+00, -7.92968750e-01, ...,\n",
       "           6.83593601e-02,  7.46093750e-01, -9.80468750e-01],\n",
       "         [-1.58593595e+00, -1.04687536e+00, -7.46093750e-01, ...,\n",
       "           2.04687309e+00, -3.45702112e-01, -7.42195696e-02],\n",
       "         ...,\n",
       "         [ 2.88804442e-01,  5.36353409e-01,  4.18421060e-01, ...,\n",
       "           2.63076667e-02, -3.20746124e-01, -1.01555741e+00],\n",
       "         [ 3.78556907e-01, -1.48587656e+00,  9.82486427e-01, ...,\n",
       "          -8.30495000e-01,  9.58898544e-01, -3.22745860e-01],\n",
       "         [ 4.38421816e-01, -2.74543571e+00,  5.55849850e-01, ...,\n",
       "          -2.97044843e-01,  1.52358460e+00, -1.22892536e-01]],\n",
       "\n",
       "        [[-8.24218750e-01,  5.11718750e-01, -1.46093750e+00, ...,\n",
       "          -1.30468750e+00, -1.24218750e+00, -2.03125000e+00],\n",
       "         [-8.24218690e-01,  5.11718750e-01, -1.46093750e+00, ...,\n",
       "          -1.30468750e+00, -1.24218750e+00, -2.03125000e+00],\n",
       "         [ 1.34144187e+00,  8.90559614e-01, -4.95025098e-01, ...,\n",
       "           2.43227386e+00,  1.12781000e+00, -5.26676893e-01],\n",
       "         ...,\n",
       "         [ 3.18895459e+00, -1.12287104e+00,  8.19837451e-01, ...,\n",
       "           2.75804126e-03,  1.37120736e+00,  1.60295650e-01],\n",
       "         [ 1.05463374e+00, -1.16399109e+00,  4.17910278e-01, ...,\n",
       "          -1.49997854e+00,  1.07025385e+00,  4.70647454e-01],\n",
       "         [ 1.80968553e-01,  6.03605866e-01,  6.99545503e-01, ...,\n",
       "           1.80015790e+00,  1.29831517e+00, -7.41952121e-01]]],\n",
       "\n",
       "\n",
       "       [[[ 1.40625000e+00,  1.28906250e-01, -7.10937500e-01, ...,\n",
       "          -1.13281250e+00,  2.49023438e-01,  8.08593750e-01],\n",
       "         [ 1.40625000e+00,  1.28906250e-01, -7.10937500e-01, ...,\n",
       "          -1.13281250e+00,  2.49023438e-01,  8.08593750e-01],\n",
       "         [-8.47475231e-01,  6.24970794e-01, -9.53039944e-01, ...,\n",
       "          -7.14741111e-01,  1.00758815e+00, -4.72408772e-01],\n",
       "         ...,\n",
       "         [-1.38340998e+00, -1.31772947e+00,  4.03404891e-01, ...,\n",
       "          -6.03876650e-01,  6.66585743e-01, -1.28725365e-01],\n",
       "         [ 1.25883257e+00,  1.85706162e+00,  3.39522492e-04, ...,\n",
       "          -2.35749617e-01,  5.32270819e-02, -1.28784692e+00],\n",
       "         [-7.99841136e-02, -2.37457052e-01,  4.51867431e-01, ...,\n",
       "           2.13945940e-01, -2.55401939e-01, -2.00217485e-01]],\n",
       "\n",
       "        [[-1.70898438e-01, -1.86523438e-01, -5.97656250e-01, ...,\n",
       "          -7.03125000e-01,  1.33789062e-01,  1.26562500e+00],\n",
       "         [-1.70898438e-01, -1.86523438e-01, -5.97656250e-01, ...,\n",
       "          -7.03125000e-01,  1.33789062e-01,  1.26562500e+00],\n",
       "         [ 5.31250000e-01, -2.10937500e+00, -1.40625015e-01, ...,\n",
       "          -3.88671875e-01, -2.39062500e+00,  4.22363020e-02],\n",
       "         ...,\n",
       "         [-4.97927070e-01, -7.77771235e-01,  1.17114723e+00, ...,\n",
       "          -4.90301728e-01, -9.27580446e-02,  1.11865771e+00],\n",
       "         [-6.56813860e-01, -7.94476926e-01, -8.22674707e-02, ...,\n",
       "           2.38715738e-01, -1.48074937e+00, -1.54231191e+00],\n",
       "         [ 3.62515360e-01, -3.52012038e-01, -4.47167426e-01, ...,\n",
       "           1.01064682e+00, -5.87330163e-01,  7.20056295e-01]],\n",
       "\n",
       "        [[ 9.37500000e-02,  7.18750000e-01,  6.99218750e-01, ...,\n",
       "           2.57812500e-01, -2.10937500e+00,  1.47656250e+00],\n",
       "         [ 9.37500000e-02,  7.18750000e-01,  6.99218750e-01, ...,\n",
       "           2.57812500e-01, -2.10937500e+00,  1.47656250e+00],\n",
       "         [ 7.89062500e-01, -4.82421875e-01,  2.46875000e+00, ...,\n",
       "          -5.35156250e-01,  6.95312500e-01,  1.14062500e+00],\n",
       "         ...,\n",
       "         [-1.54628325e+00, -2.60207146e-01,  4.04044300e-01, ...,\n",
       "           2.02125907e+00, -9.67317104e-01, -5.32534659e-01],\n",
       "         [-5.74067950e-01, -1.74462068e+00,  1.03545047e-01, ...,\n",
       "           5.37440300e-01, -7.20376730e-01,  9.03703928e-01],\n",
       "         [ 2.67450094e-01,  2.67695278e-01, -1.08502853e+00, ...,\n",
       "           7.83109248e-01,  5.34408987e-01, -7.30330348e-01]],\n",
       "\n",
       "        ...,\n",
       "\n",
       "        [[ 1.16406250e+00, -6.39648438e-02, -1.08886719e-01, ...,\n",
       "          -1.28906250e+00,  3.80859375e-01,  9.60937500e-01],\n",
       "         [ 1.16406250e+00, -6.39648438e-02, -1.08886719e-01, ...,\n",
       "          -1.28906250e+00,  3.80859375e-01,  9.60937500e-01],\n",
       "         [ 4.17447329e-01,  2.68601418e-01,  1.15750384e+00, ...,\n",
       "           1.16853990e-01, -5.82292736e-01,  1.41780305e+00],\n",
       "         ...,\n",
       "         [-4.03793424e-01, -3.41422260e-01, -2.11745985e-02, ...,\n",
       "           3.93375337e-01,  5.51630020e-01, -3.82822633e-01],\n",
       "         [ 4.07689027e-02, -2.49999619e+00, -1.31249428e+00, ...,\n",
       "           1.16406286e+00,  1.07031083e+00,  8.39843988e-01],\n",
       "         [ 8.76374781e-01,  8.39913368e-01,  1.19616121e-01, ...,\n",
       "           7.82694399e-01, -3.00261855e-01,  1.15182900e+00]],\n",
       "\n",
       "        [[-1.08886719e-01,  6.05468750e-01,  3.47656250e-01, ...,\n",
       "           4.21875000e-01,  4.53125000e-01, -2.39257812e-01],\n",
       "         [-1.08886719e-01,  6.05468750e-01,  3.47656250e-01, ...,\n",
       "           4.21875000e-01,  4.53125000e-01, -2.39257812e-01],\n",
       "         [-7.42186964e-01,  3.59374672e-01, -5.97656131e-01, ...,\n",
       "          -3.04687381e+00, -7.18749464e-01,  1.97265938e-01],\n",
       "         ...,\n",
       "         [-2.67109334e-01,  4.79332358e-01, -3.34690735e-02, ...,\n",
       "           7.02099502e-01,  6.83811843e-01, -7.08221674e-01],\n",
       "         [-3.15669924e-01,  7.02810347e-01, -6.84066057e-01, ...,\n",
       "          -1.12367988e+00,  7.44340658e-01,  3.17689106e-02],\n",
       "         [ 7.27457583e-01, -8.71311307e-01, -5.91380835e-01, ...,\n",
       "           8.72121155e-01,  2.78928101e-01,  3.41705889e-01]],\n",
       "\n",
       "        [[-4.70703125e-01,  1.62500000e+00, -2.57873535e-03, ...,\n",
       "          -2.26562500e+00, -1.89453125e-01,  2.96875000e-01],\n",
       "         [-4.70703125e-01,  1.62500000e+00, -2.57873535e-03, ...,\n",
       "          -2.26562500e+00, -1.89453125e-01,  2.96875000e-01],\n",
       "         [ 1.78705782e-01, -1.11717927e+00,  1.51561713e+00, ...,\n",
       "          -2.46090919e-01, -1.58593273e+00,  1.01069860e-01],\n",
       "         ...,\n",
       "         [ 1.30355668e+00,  7.48666167e-01,  4.39963698e-01, ...,\n",
       "           1.56703389e+00,  8.40817392e-01,  4.67856042e-02],\n",
       "         [-8.62162337e-02,  7.65005410e-01, -3.43191147e-01, ...,\n",
       "           4.88793254e-01, -8.57405484e-01,  5.48634946e-01],\n",
       "         [ 1.84880003e-01,  8.62202525e-01, -1.13888824e+00, ...,\n",
       "           1.76963091e-01,  1.07327771e+00, -4.20698524e-01]]]],      dtype=float32)"
      ]
     },
     "execution_count": 8,
     "metadata": {},
     "output_type": "execute_result"
    }
   ],
   "source": [
    "batch = 4\n",
    "num_heads = 8\n",
    "q_seq_len = 4096\n",
    "kv_seq_len = 4096\n",
    "key_size = 256\n",
    "key1, key2, key3, key4, key5 = jax.random.split(jax.random.PRNGKey(0), 5)\n",
    "q = jax.random.normal(key1, (batch, num_heads, q_seq_len, key_size), dtype=jnp.float32)\n",
    "k = jax.random.normal(key2, (batch, num_heads, kv_seq_len, key_size), dtype=jnp.float32)\n",
    "v = jax.random.normal(key3, (batch, num_heads, kv_seq_len, key_size), dtype=jnp.float32)\n",
    "q_segment_ids = jax.random.randint(key4, (batch, q_seq_len), 0, 2)\n",
    "kv_segment_ids = jax.random.randint(key5, (batch, kv_seq_len), 0, 2)\n",
    "segment_ids = flash_attention.SegmentIds(q_segment_ids, kv_segment_ids)\n",
    "flash_attention.flash_attention(q, k, v, segment_ids=segment_ids, causal=True)"
   ]
  },
  {
   "cell_type": "code",
   "execution_count": 1,
   "metadata": {},
   "outputs": [],
   "source": [
    "from functools import partial\n",
    "\n",
    "import jax\n",
    "from jax.experimental import pallas as pl\n",
    "import jax.numpy as jnp\n",
    "import numpy as np"
   ]
  },
  {
   "cell_type": "code",
   "execution_count": 3,
   "metadata": {},
   "outputs": [
    {
     "data": {
      "text/plain": [
       "Array([ 0,  2,  4,  6,  8, 10, 12, 14], dtype=int32)"
      ]
     },
     "execution_count": 3,
     "metadata": {},
     "output_type": "execute_result"
    }
   ],
   "source": [
    "def add_vectors_kernel(x_ref, y_ref, o_ref):\n",
    "  x, y = x_ref[...], y_ref[...]\n",
    "  o_ref[...] = x + y\n",
    "  \n",
    "@jax.jit\n",
    "def add_vectors(x: jax.Array, y: jax.Array) -> jax.Array:\n",
    "  return pl.pallas_call(\n",
    "      add_vectors_kernel,\n",
    "      out_shape=jax.ShapeDtypeStruct(x.shape, x.dtype)\n",
    "  )(x, y)\n",
    "add_vectors(jnp.arange(8), jnp.arange(8))"
   ]
  },
  {
   "cell_type": "code",
   "execution_count": 10,
   "metadata": {},
   "outputs": [],
   "source": [
    "segment_ids = jnp.array([[1,1,1,2,2,0,0], [1,1,2,2,2,0,0]])"
   ]
  },
  {
   "cell_type": "code",
   "execution_count": 15,
   "metadata": {},
   "outputs": [
    {
     "data": {
      "text/plain": [
       "Array([[[1, 1, 1, 0, 0, 0, 0],\n",
       "        [1, 1, 1, 0, 0, 0, 0],\n",
       "        [1, 1, 1, 0, 0, 0, 0],\n",
       "        [0, 0, 0, 1, 1, 0, 0],\n",
       "        [0, 0, 0, 1, 1, 0, 0],\n",
       "        [0, 0, 0, 0, 0, 1, 1],\n",
       "        [0, 0, 0, 0, 0, 1, 1]],\n",
       "\n",
       "       [[1, 1, 0, 0, 0, 0, 0],\n",
       "        [1, 1, 0, 0, 0, 0, 0],\n",
       "        [0, 0, 1, 1, 1, 0, 0],\n",
       "        [0, 0, 1, 1, 1, 0, 0],\n",
       "        [0, 0, 1, 1, 1, 0, 0],\n",
       "        [0, 0, 0, 0, 0, 1, 1],\n",
       "        [0, 0, 0, 0, 0, 1, 1]]], dtype=int32)"
      ]
     },
     "execution_count": 15,
     "metadata": {},
     "output_type": "execute_result"
    }
   ],
   "source": [
    "(segment_ids[:, None, :] == segment_ids[:, :, None]).astype(jnp.int32)"
   ]
  },
  {
   "cell_type": "code",
   "execution_count": 14,
   "metadata": {},
   "outputs": [
    {
     "data": {
      "text/plain": [
       "Array([[1., 0., 0., 0., 0., 0., 0.],\n",
       "       [1., 1., 0., 0., 0., 0., 0.],\n",
       "       [1., 1., 1., 0., 0., 0., 0.],\n",
       "       [1., 1., 1., 1., 0., 0., 0.],\n",
       "       [1., 1., 1., 1., 1., 0., 0.],\n",
       "       [1., 1., 1., 1., 1., 1., 0.],\n",
       "       [1., 1., 1., 1., 1., 1., 1.]], dtype=float32)"
      ]
     },
     "execution_count": 14,
     "metadata": {},
     "output_type": "execute_result"
    }
   ],
   "source": [
    "jnp.tril(jnp.ones((7, 7)))"
   ]
  },
  {
   "cell_type": "code",
   "execution_count": 16,
   "metadata": {},
   "outputs": [
    {
     "data": {
      "text/plain": [
       "<module 'jax.experimental.shard_map' from '/home/sholto/.local/lib/python3.10/site-packages/jax/experimental/shard_map.py'>"
      ]
     },
     "execution_count": 16,
     "metadata": {},
     "output_type": "execute_result"
    }
   ],
   "source": [
    "jax.experimental.shard_map"
   ]
  },
  {
   "cell_type": "code",
   "execution_count": null,
   "metadata": {},
   "outputs": [],
   "source": []
  }
 ],
 "metadata": {
  "kernelspec": {
   "display_name": "Python 3",
   "language": "python",
   "name": "python3"
  },
  "language_info": {
   "codemirror_mode": {
    "name": "ipython",
    "version": 3
   },
   "file_extension": ".py",
   "mimetype": "text/x-python",
   "name": "python",
   "nbconvert_exporter": "python",
   "pygments_lexer": "ipython3",
   "version": "3.10.6"
  }
 },
 "nbformat": 4,
 "nbformat_minor": 2
}
