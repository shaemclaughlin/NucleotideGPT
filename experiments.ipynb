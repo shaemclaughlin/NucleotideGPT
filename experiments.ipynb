{
 "cells": [
  {
   "cell_type": "code",
   "execution_count": 430,
   "metadata": {},
   "outputs": [],
   "source": [
    "import jax\n",
    "import projects.charformer.data as data\n",
    "from importlib import reload\n",
    "data = reload(data)\n",
    "import sys\n",
    "import numpy\n",
    "import jax\n",
    "import jax.numpy as jnp\n",
    "numpy.set_printoptions(threshold=sys.maxsize)\n",
    "# %pip install tqdm\n"
   ]
  },
  {
   "cell_type": "code",
   "execution_count": 431,
   "metadata": {},
   "outputs": [
    {
     "data": {
      "text/plain": [
       "[TpuDevice(id=0, process_index=0, coords=(0,0,0), core_on_chip=0),\n",
       " TpuDevice(id=1, process_index=0, coords=(0,0,0), core_on_chip=1),\n",
       " TpuDevice(id=2, process_index=0, coords=(1,0,0), core_on_chip=0),\n",
       " TpuDevice(id=3, process_index=0, coords=(1,0,0), core_on_chip=1),\n",
       " TpuDevice(id=4, process_index=0, coords=(0,1,0), core_on_chip=0),\n",
       " TpuDevice(id=5, process_index=0, coords=(0,1,0), core_on_chip=1),\n",
       " TpuDevice(id=6, process_index=0, coords=(1,1,0), core_on_chip=0),\n",
       " TpuDevice(id=7, process_index=0, coords=(1,1,0), core_on_chip=1)]"
      ]
     },
     "execution_count": 431,
     "metadata": {},
     "output_type": "execute_result"
    }
   ],
   "source": [
    "jax.devices()"
   ]
  },
  {
   "cell_type": "code",
   "execution_count": 432,
   "metadata": {},
   "outputs": [],
   "source": [
    "ds = data.CharDataset(data.CharDataset.get_default_config())"
   ]
  },
  {
   "cell_type": "code",
   "execution_count": 433,
   "metadata": {},
   "outputs": [
    {
     "name": "stderr",
     "output_type": "stream",
     "text": [
      "15524it [00:02, 7310.03it/s]\n"
     ]
    },
    {
     "ename": "KeyboardInterrupt",
     "evalue": "",
     "output_type": "error",
     "traceback": [
      "\u001b[0;31m---------------------------------------------------------------------------\u001b[0m",
      "\u001b[0;31mKeyboardInterrupt\u001b[0m                         Traceback (most recent call last)",
      "Cell \u001b[0;32mIn[433], line 1\u001b[0m\n\u001b[0;32m----> 1\u001b[0m \u001b[43mds\u001b[49m\u001b[38;5;241;43m.\u001b[39;49m\u001b[43mcreate_packed_records\u001b[49m\u001b[43m(\u001b[49m\u001b[43minput_file_path\u001b[49m\u001b[38;5;241;43m=\u001b[39;49m\u001b[43mfile_path\u001b[49m\u001b[43m,\u001b[49m\u001b[43m \u001b[49m\u001b[43moutput_dir\u001b[49m\u001b[38;5;241;43m=\u001b[39;49m\u001b[38;5;124;43m'\u001b[39;49m\u001b[38;5;124;43mprojects/charformer/data/tfrecords/\u001b[39;49m\u001b[38;5;124;43m'\u001b[39;49m\u001b[43m,\u001b[49m\u001b[43m \u001b[49m\u001b[43mcustom_delimiter\u001b[49m\u001b[38;5;241;43m=\u001b[39;49m\u001b[38;5;124;43m'\u001b[39;49m\u001b[38;5;124;43m<|endoftext|>\u001b[39;49m\u001b[38;5;124;43m'\u001b[39;49m\u001b[43m)\u001b[49m\n",
      "File \u001b[0;32m~/minformer/projects/charformer/data.py:105\u001b[0m, in \u001b[0;36mCharDataset.create_packed_records\u001b[0;34m(self, input_file_path, output_dir, custom_delimiter)\u001b[0m\n\u001b[1;32m    102\u001b[0m \u001b[38;5;66;03m# print(\"\".join([self.itos[int(t)] for t in token_span[:]])+\"\\n\\n ------- \\n\\n\")\u001b[39;00m\n\u001b[1;32m    103\u001b[0m \u001b[38;5;66;03m# print(segment_ids[:2048])\u001b[39;00m\n\u001b[1;32m    104\u001b[0m \u001b[38;5;28;01mwith\u001b[39;00m tf\u001b[38;5;241m.\u001b[39mio\u001b[38;5;241m.\u001b[39mTFRecordWriter(new_output_file) \u001b[38;5;28;01mas\u001b[39;00m writer:\n\u001b[0;32m--> 105\u001b[0m     \u001b[43msave_tfrecord\u001b[49m\u001b[43m(\u001b[49m\u001b[43mwriter\u001b[49m\u001b[43m,\u001b[49m\u001b[43m \u001b[49m\u001b[43mtoken_span\u001b[49m\u001b[43m,\u001b[49m\u001b[43m \u001b[49m\u001b[43msegment_ids\u001b[49m\u001b[43m)\u001b[49m\n\u001b[1;32m    106\u001b[0m \u001b[38;5;66;03m# And reset everything.\u001b[39;00m\n\u001b[1;32m    107\u001b[0m token_span \u001b[38;5;241m=\u001b[39m np\u001b[38;5;241m.\u001b[39mzeros((\u001b[38;5;28mself\u001b[39m\u001b[38;5;241m.\u001b[39msequence_length\u001b[38;5;241m+\u001b[39m\u001b[38;5;241m1\u001b[39m), dtype\u001b[38;5;241m=\u001b[39mnp\u001b[38;5;241m.\u001b[39mint32)\n",
      "File \u001b[0;32m~/minformer/projects/charformer/data.py:73\u001b[0m, in \u001b[0;36mCharDataset.create_packed_records.<locals>.save_tfrecord\u001b[0;34m(writer, token_span, segment_ids)\u001b[0m\n\u001b[1;32m     67\u001b[0m segment_ids \u001b[38;5;241m=\u001b[39m segment_ids[:\u001b[38;5;241m-\u001b[39m\u001b[38;5;241m1\u001b[39m]\n\u001b[1;32m     68\u001b[0m example \u001b[38;5;241m=\u001b[39m tf\u001b[38;5;241m.\u001b[39mtrain\u001b[38;5;241m.\u001b[39mExample(features\u001b[38;5;241m=\u001b[39mtf\u001b[38;5;241m.\u001b[39mtrain\u001b[38;5;241m.\u001b[39mFeatures(feature\u001b[38;5;241m=\u001b[39m{\n\u001b[1;32m     69\u001b[0m     \u001b[38;5;124m'\u001b[39m\u001b[38;5;124mx\u001b[39m\u001b[38;5;124m'\u001b[39m: tf\u001b[38;5;241m.\u001b[39mtrain\u001b[38;5;241m.\u001b[39mFeature(int64_list\u001b[38;5;241m=\u001b[39mtf\u001b[38;5;241m.\u001b[39mtrain\u001b[38;5;241m.\u001b[39mInt64List(value\u001b[38;5;241m=\u001b[39mx)),\n\u001b[1;32m     70\u001b[0m     \u001b[38;5;124m'\u001b[39m\u001b[38;5;124my\u001b[39m\u001b[38;5;124m'\u001b[39m: tf\u001b[38;5;241m.\u001b[39mtrain\u001b[38;5;241m.\u001b[39mFeature(int64_list\u001b[38;5;241m=\u001b[39mtf\u001b[38;5;241m.\u001b[39mtrain\u001b[38;5;241m.\u001b[39mInt64List(value\u001b[38;5;241m=\u001b[39my)),\n\u001b[1;32m     71\u001b[0m     \u001b[38;5;124m'\u001b[39m\u001b[38;5;124msegment_ids\u001b[39m\u001b[38;5;124m'\u001b[39m: tf\u001b[38;5;241m.\u001b[39mtrain\u001b[38;5;241m.\u001b[39mFeature(int64_list\u001b[38;5;241m=\u001b[39mtf\u001b[38;5;241m.\u001b[39mtrain\u001b[38;5;241m.\u001b[39mInt64List(value\u001b[38;5;241m=\u001b[39msegment_ids))\n\u001b[1;32m     72\u001b[0m }))\n\u001b[0;32m---> 73\u001b[0m writer\u001b[38;5;241m.\u001b[39mwrite(\u001b[43mexample\u001b[49m\u001b[38;5;241;43m.\u001b[39;49m\u001b[43mSerializeToString\u001b[49m\u001b[43m(\u001b[49m\u001b[43m)\u001b[49m)\n",
      "\u001b[0;31mKeyboardInterrupt\u001b[0m: "
     ]
    }
   ],
   "source": [
    "ds.create_packed_records(input_file_path=file_path, output_dir='projects/charformer/data/tfrecords/', custom_delimiter='<|endoftext|>')"
   ]
  },
  {
   "cell_type": "code",
   "execution_count": 434,
   "metadata": {},
   "outputs": [],
   "source": [
    "retokenized = ds.load_and_retokenize_tfrecord(file_path='projects/charformer/data/tfrecords/record_121.tfrecord')"
   ]
  },
  {
   "cell_type": "code",
   "execution_count": 435,
   "metadata": {},
   "outputs": [
    {
     "name": "stdout",
     "output_type": "stream",
     "text": [
      "One day, a boy named Tim was eager to sort his toy cars. He had a big box with many cars. Tim wanted to put the cars in small groups. He thought it would be fun.\n",
      "Tim's mom said, \"Be careful with the small cars. They may get lost.\" Tim said, \"I will be careful, Mom.\" He started to sort his cars by color. He had red cars, blue cars, and green cars. Tim was happy.\n",
      "But then, Tim found a tiny car. It was so small, it could fit in a cell. He put the tiny car in a safe place so it would not get lost. Later, Tim showed his mom all the sorted cars. His mom was proud of him. And the tiny car was safe, just like his mom said.\n",
      "<|endoftext|\n",
      "One day, a little girl named Lucy went to the park with her mom. Lucy saw a tall giraffe with a long neck. She felt nervous because she had never seen a giraffe before. She held her mom's hand tight.\n",
      "Lucy asked her mom a question, \"Mom, why does the giraffe have such a long neck?\" Her mom smiled and said, \"The giraffe has a long neck so it can eat leaves from the tall trees.\"\n",
      "Lucy thought about it and then asked another question, \"Can I feed the giraffe?\" Her mom said, \"Yes, but be gentle.\" Lucy slowly walked up to the giraffe, not feeling nervous anymore. She fed the giraffe some leaves, and they became friends.\n",
      "<|endoftext|\n",
      "\n",
      "Once upon a time there was a little boy named Joe. Joe was only three years old and was very curious. He loved to explore the world around him. One day, Joe was walking near a big pile of garbage when he noticed something disgusting. \n",
      "Joe asked a question. He wanted to know what the disgusting smell was coming from the pile of garbage. Just then, Joe heard a voice coming from the pile. It said,  \"Come closer and find out.\"\n",
      "Joe stepped closer and cautiously stuck his head over the pile. Then he saw something he had never seen before. There was a big tear in the side of a huge plastic container and the stench was coming from the inside. \n",
      "Joe felt scared. He was about to tear away, when something flew out from the container and landed on the ground in front of him. It was a shiny penny! Joe was so excited. He carefully picked it up, and smiled as he popped it in his pocket.\n",
      "Joe went home never realizing that his lucky penny was the cause of all the disgusting smells.\n",
      "<|endoftext|\n",
      "\n",
      "Once upon a time there was a little girl named Jane. Jane was only three years old and she loved to have fun.\n",
      "One day Jane's mum called her to come inside for lunch. It was almost noon, so Jane knew it was time to go inside and eat. Jane ran inside the house and found her mum in the kitchen. She was making a yummy meal for Jane. Jane gave her mum a big hug and said it was a very good lunch.\n",
      "After eating, Jane and her mum went outside to play. They flew paper airplanes, blew bubbles and made some art. Then, when the sun was high in the sky, Jane's mum called her name again. It was time for a nap. \n",
      "Jane said goodbye to the sun and went inside. She lay in her bed and soon fell fast asleep. When Jane woke up it was already almost noon again. She knew that the day had been a very good one.\n",
      "<|endoftext|\n",
      "Once upon a time, a cat with soft fur lived in a small house. The cat loved to play outside when it was dry and sunny. One day, the cat went to a shop to buy a toy.\n",
      "In the shop, the cat saw a dog. The dog was big and had a toy in its mouth. The cat said, \"Hi, dog! I want to buy a toy too.\" The dog said, \"Hi, cat! I like your fur. It is very soft.\"\n",
      "The cat and the dog went to pay for their toys. The cat said, \"I am happy we are friends.\" The dog said, \"Me too, cat. Let's play together when it is dry outside.\" They both paid for their toys and went outside to play in the sun.\n",
      "<|endoftext|\n"
     ]
    }
   ],
   "source": [
    "for r in retokenized:\n",
    "    print(r)"
   ]
  },
  {
   "cell_type": "code",
   "execution_count": 436,
   "metadata": {},
   "outputs": [],
   "source": [
    "iter = ds.create_iterator('projects/charformer/data/tfrecords/record_*.tfrecord', batch_size=4)"
   ]
  },
  {
   "cell_type": "code",
   "execution_count": 437,
   "metadata": {},
   "outputs": [
    {
     "data": {
      "text/plain": [
       "{'segment_ids': (4, 4096), 'x': (4, 4096), 'y': (4, 4096)}"
      ]
     },
     "execution_count": 437,
     "metadata": {},
     "output_type": "execute_result"
    }
   ],
   "source": [
    "\n",
    "jax.tree_map(jnp.shape, next(iter))"
   ]
  },
  {
   "cell_type": "code",
   "execution_count": null,
   "metadata": {},
   "outputs": [],
   "source": []
  }
 ],
 "metadata": {
  "kernelspec": {
   "display_name": "Python 3",
   "language": "python",
   "name": "python3"
  },
  "language_info": {
   "codemirror_mode": {
    "name": "ipython",
    "version": 3
   },
   "file_extension": ".py",
   "mimetype": "text/x-python",
   "name": "python",
   "nbconvert_exporter": "python",
   "pygments_lexer": "ipython3",
   "version": "3.8.5"
  }
 },
 "nbformat": 4,
 "nbformat_minor": 2
}
