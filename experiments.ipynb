{
 "cells": [
  {
   "cell_type": "code",
   "execution_count": 1,
   "metadata": {},
   "outputs": [
    {
     "name": "stderr",
     "output_type": "stream",
     "text": [
      "2024-09-02 02:08:27.737269: E external/local_xla/xla/stream_executor/cuda/cuda_fft.cc:485] Unable to register cuFFT factory: Attempting to register factory for plugin cuFFT when one has already been registered\n",
      "2024-09-02 02:08:27.795342: E external/local_xla/xla/stream_executor/cuda/cuda_dnn.cc:8454] Unable to register cuDNN factory: Attempting to register factory for plugin cuDNN when one has already been registered\n",
      "2024-09-02 02:08:27.812912: E external/local_xla/xla/stream_executor/cuda/cuda_blas.cc:1452] Unable to register cuBLAS factory: Attempting to register factory for plugin cuBLAS when one has already been registered\n",
      "2024-09-02 02:08:29.591993: W tensorflow/compiler/tf2tensorrt/utils/py_utils.cc:38] TF-TRT Warning: Could not find TensorRT\n"
     ]
    }
   ],
   "source": [
    "import jax\n",
    "import projects.charformer.data as data\n",
    "from importlib import reload\n",
    "data = reload(data)\n",
    "import sys\n",
    "import numpy\n",
    "import jax\n",
    "import jax.numpy as jnp\n",
    "numpy.set_printoptions(threshold=sys.maxsize)\n",
    "# %pip install tqdm\n"
   ]
  },
  {
   "cell_type": "code",
   "execution_count": 2,
   "metadata": {},
   "outputs": [
    {
     "data": {
      "text/plain": [
       "[TpuDevice(id=0, process_index=0, coords=(0,0,0), core_on_chip=0),\n",
       " TpuDevice(id=1, process_index=0, coords=(0,0,0), core_on_chip=1),\n",
       " TpuDevice(id=2, process_index=0, coords=(1,0,0), core_on_chip=0),\n",
       " TpuDevice(id=3, process_index=0, coords=(1,0,0), core_on_chip=1),\n",
       " TpuDevice(id=4, process_index=0, coords=(0,1,0), core_on_chip=0),\n",
       " TpuDevice(id=5, process_index=0, coords=(0,1,0), core_on_chip=1),\n",
       " TpuDevice(id=6, process_index=0, coords=(1,1,0), core_on_chip=0),\n",
       " TpuDevice(id=7, process_index=0, coords=(1,1,0), core_on_chip=1)]"
      ]
     },
     "execution_count": 2,
     "metadata": {},
     "output_type": "execute_result"
    }
   ],
   "source": [
    "jax.devices()"
   ]
  },
  {
   "cell_type": "code",
   "execution_count": 3,
   "metadata": {},
   "outputs": [],
   "source": [
    "ds = data.CharDataset(data.CharDataset.get_default_config())"
   ]
  },
  {
   "cell_type": "code",
   "execution_count": 4,
   "metadata": {},
   "outputs": [],
   "source": [
    "# !  wget https://huggingface.co/datasets/roneneldan/TinyStories/resolve/main/TinyStoriesV2-GPT4-train.txt"
   ]
  },
  {
   "cell_type": "code",
   "execution_count": 5,
   "metadata": {},
   "outputs": [],
   "source": [
    "# ds.create_packed_records(input_file_path='projects/charformer/data/TinyStoriesV2-GPT4-train.txt', output_dir='projects/charformer/data/tfrecords/', custom_delimiter='<|endoftext|>')"
   ]
  },
  {
   "cell_type": "code",
   "execution_count": 6,
   "metadata": {},
   "outputs": [],
   "source": [
    "retokenized = ds.load_and_retokenize_tfrecord(file_path='projects/charformer/data/tfrecords/record_400.tfrecord')"
   ]
  },
  {
   "cell_type": "code",
   "execution_count": 7,
   "metadata": {},
   "outputs": [
    {
     "name": "stdout",
     "output_type": "stream",
     "text": [
      "\n",
      "Once there was a pale piano. It was very shiny and looked like it had just been polished. Bob was a 3 year old boy who loved the piano. Every day, he would come and polish it. He always used his special color polishing cloth. Making the piano shiny and prettier was so much fun for him. \n",
      "One day, Bob was very excited. He had some new, sparkly polish that he wanted to use. He was so happy that he was dancing around the piano as he polished it. Suddenly, he knocked off one of the keys and it fell to the ground. Bob was so sad. He didn't know what to do. \n",
      "Luckily, his dad was there. He quickly fixed the piano and made it look as good as new. When he was finished, Bob was so proud. The piano was so pale and shiny. He gave his dad a big hug and thanked him for making the piano look so beautiful. From that day on, Bob always remembered to be very careful when polishing the piano.\n",
      "<|endoftext|\n",
      "\n",
      "\n",
      "Bella and Max are two cats who live in a big house with a nice family. They like to play together, chase mice, and nap on the sofa. But sometimes they also like to have their own space and do different things.\n",
      "One day, Bella wanted to explore the garden and see the flowers and the birds. She asked Max to come with her, but Max wanted to stay inside and play with a ball of yarn. He said, \"No, thank you, Bella. I like the yarn. It is soft and fun. You go and have fun in the garden.\"\n",
      "Bella was a little sad, but she understood that Max had a different idea of fun. She said, \"Okay, Max. Maybe we can play together later. Bye-bye.\" She went out the door and into the garden. She smelled the roses, watched the butterflies, and climbed a tree.\n",
      "Max played with the yarn for a while, but then he got bored. He wondered what Bella was doing in the garden. He decided to go and find her. He went out the door and into the garden. He looked around, but he could not see Bella. He called, \"Bella, where are you? I want to play with you.\"\n",
      "Bella heard Max's voice and jumped down from the tree. She ran to him and said, \"Hi, Max. I'm here. I had fun in the garden. Did you have fun with the yarn?\" Max nodded and said, \"Yes, I did. But I missed you. Can we play together now?\" Bella smiled and said, \"Of course we can. What do you want to play?\"\n",
      "Max saw a big cardboard box in the corner of the garden. He said, \"Let's play with the box. Maybe we can make a fort or a spaceship.\" Bella agreed and they ran to the box. They pushed and pulled and scratched and bit until they made a hole in the box. They crawled inside and found that it was cozy and dark. They said, \"Wow, this is a great box. It fits us perfectly.\"\n",
      "They curled up in the box and licked each other's paws. They were happy to be together again. They said, \"We love each other, even when we separate. We are the best cats in the world.\" They closed their eyes and fell asleep in the box. The end.\n",
      "<|endoftext|\n",
      "Once upon a time, there was a big train. The train ran on a track. The track was very organized. It went up and down, left and right.\n",
      "One day, the train saw a cute cat. The cat was lying on the track. The train stopped. The train did not want to hurt the cat.\n",
      "The cat got up and walked away. The train was happy. The train went on the organized track again. The train and the cat were friends. They played together every day.\n",
      "<|endoftext|\n",
      "\n",
      "Ben was so worried. He looked around and saw his toy truck, but it wasn't moving. He asked his dad for help.\n",
      "His dad smiled and said, \"Don't be worried, Ben. We just need some oil to rock the truck.\"\n",
      "So, Ben and his dad went to the store and bought some oil.\n",
      "Back at home, Ben's dad poured the oil into the truck and said, \"Okay, now rock the truck and see if it works!\"\n",
      "Ben rocked the truck back and forth and then it came alive! The truck moved forward and Ben was so excited. He shouted, \"It's working! It's working!\"\n",
      "Ben was so happy his toy truck was finally running. He thanked his dad and they both smiled.\n",
      "<|endoftext|\n"
     ]
    }
   ],
   "source": [
    "for r in retokenized:\n",
    "    print(r)"
   ]
  },
  {
   "cell_type": "code",
   "execution_count": 8,
   "metadata": {},
   "outputs": [],
   "source": [
    "iter = ds.create_iterator('projects/charformer/data/tfrecords/record_*.tfrecord', batch_size=8)"
   ]
  },
  {
   "cell_type": "code",
   "execution_count": 9,
   "metadata": {},
   "outputs": [],
   "source": [
    "batch = next(iter)"
   ]
  },
  {
   "cell_type": "code",
   "execution_count": 30,
   "metadata": {},
   "outputs": [],
   "source": [
    "import minformer.model as model\n",
    "import functools\n",
    "model = reload(model)\n",
    "data = reload(data)"
   ]
  },
  {
   "cell_type": "code",
   "execution_count": 31,
   "metadata": {},
   "outputs": [],
   "source": [
    "cfg = model.Config(\n",
    "    d_model=1024,\n",
    "    ffw_multiplier=4,\n",
    "    query_heads=8,\n",
    "    key_heads=8,\n",
    "    num_layers=4,\n",
    "    key_dim=128,\n",
    "    vocab_size=256,\n",
    "    max_seq_len=8192,\n",
    "    causal=True,\n",
    "    use_attn_kernel=True,\n",
    "    rules=model.fsdp_rules,\n",
    "    mesh=model.create_mesh()\n",
    ")\n",
    "\n",
    "inference_config = model.Config(\n",
    "    d_model=1024,\n",
    "    ffw_multiplier=4,\n",
    "    query_heads=8,\n",
    "    key_heads=8,\n",
    "    num_layers=4,\n",
    "    key_dim=128,\n",
    "    vocab_size=256,\n",
    "    max_seq_len=8192,\n",
    "    causal=True,\n",
    "    use_attn_kernel=False,\n",
    "    rules=model.mdl_parallel_rules,\n",
    "    mesh=model.create_mesh()\n",
    ")"
   ]
  },
  {
   "cell_type": "code",
   "execution_count": 32,
   "metadata": {},
   "outputs": [],
   "source": [
    "weights = model.Weights.init(cfg, jax.random.PRNGKey(0), cfg.mesh, model.fsdp_rules)"
   ]
  },
  {
   "cell_type": "code",
   "execution_count": null,
   "metadata": {},
   "outputs": [],
   "source": [
    "# jax.tree.map(lambda w: print(w.shape, w.dtype, jnp.mean(w)), weights)"
   ]
  },
  {
   "cell_type": "code",
   "execution_count": 33,
   "metadata": {},
   "outputs": [],
   "source": [
    "step = jax.jit(model.update_step, static_argnames='cfg')\n",
    "step = functools.partial(step, cfg=cfg)"
   ]
  },
  {
   "cell_type": "code",
   "execution_count": 50,
   "metadata": {},
   "outputs": [],
   "source": [
    "loss, weights = step(weights, batch['x'], batch['segment_ids'], batch['y'])"
   ]
  },
  {
   "cell_type": "code",
   "execution_count": 56,
   "metadata": {},
   "outputs": [],
   "source": [
    "test_batch = jnp.arange(0, 65)[None, :]\n",
    "test_batch = jnp.repeat(test_batch, repeats = 8, axis=0)\n",
    "{\n",
    "    'x': test_batch[:-1],\n",
    "    'y': test_batch[1:],\n",
    "    'segment_ids': jnp.ones((8, 64)),\n",
    "}"
   ]
  },
  {
   "cell_type": "code",
   "execution_count": 35,
   "metadata": {},
   "outputs": [
    {
     "name": "stdout",
     "output_type": "stream",
     "text": [
      "10.083326\n",
      "9.970391\n",
      "9.863377\n",
      "9.771708\n",
      "9.684777\n",
      "9.602008\n",
      "9.524451\n",
      "9.448865\n",
      "9.371531\n",
      "9.298349\n",
      "9.228609\n",
      "9.156842\n",
      "9.089424\n",
      "9.017433\n",
      "8.954483\n",
      "8.898302\n",
      "8.827738\n",
      "8.76631\n",
      "8.702787\n",
      "8.645181\n",
      "8.585813\n",
      "8.535715\n",
      "8.46744\n",
      "8.40992\n",
      "8.352292\n",
      "8.302406\n",
      "8.245361\n",
      "8.193779\n",
      "8.130066\n",
      "8.073913\n",
      "8.021753\n",
      "7.9776783\n",
      "7.929328\n",
      "7.883355\n",
      "7.835779\n",
      "7.787507\n",
      "7.741883\n",
      "7.703205\n",
      "7.6595445\n",
      "7.622489\n",
      "7.582061\n",
      "7.543042\n",
      "7.5092983\n",
      "7.4854364\n",
      "7.4704485\n",
      "7.431034\n",
      "7.4244566\n",
      "7.349186\n",
      "7.3162503\n",
      "7.294123\n",
      "7.281129\n",
      "7.269762\n",
      "7.266227\n",
      "7.2068233\n",
      "7.174762\n",
      "7.1475916\n",
      "7.155198\n",
      "7.105288\n",
      "7.0957365\n",
      "7.078783\n",
      "7.0944805\n",
      "7.0330424\n",
      "7.022174\n",
      "7.0035367\n",
      "6.9917507\n",
      "6.990157\n",
      "6.9951754\n",
      "6.946828\n",
      "6.9560995\n",
      "6.925441\n",
      "6.924077\n",
      "6.897968\n",
      "6.897412\n",
      "6.84975\n",
      "6.8411508\n",
      "6.8293014\n",
      "6.8454485\n",
      "6.7890177\n",
      "6.793463\n",
      "6.777377\n",
      "6.7591033\n",
      "6.752569\n",
      "6.7274036\n",
      "6.7106905\n",
      "6.7071886\n",
      "6.68876\n",
      "6.679841\n",
      "6.6737614\n",
      "6.6738267\n",
      "6.689385\n",
      "6.6152782\n",
      "6.597597\n",
      "6.595222\n",
      "6.5919237\n",
      "6.6027427\n",
      "6.6123066\n",
      "6.584985\n",
      "6.550069\n",
      "6.5498133\n",
      "6.522031\n",
      "6.5559416\n",
      "6.491213\n",
      "6.486394\n",
      "6.495328\n",
      "6.4740534\n",
      "6.4656878\n",
      "6.4609666\n",
      "6.4493895\n",
      "6.440929\n",
      "6.4087667\n",
      "6.405342\n",
      "6.4060893\n",
      "6.4228354\n",
      "6.3752594\n",
      "6.3963833\n",
      "6.383787\n",
      "6.361348\n",
      "6.354459\n",
      "6.356107\n",
      "6.318551\n",
      "6.349801\n",
      "6.3089056\n",
      "6.3079166\n",
      "6.2897496\n",
      "6.317842\n",
      "6.247714\n",
      "6.246958\n",
      "6.2516575\n",
      "6.2744875\n",
      "6.212651\n",
      "6.210463\n",
      "6.199442\n",
      "6.2166834\n",
      "6.192632\n",
      "6.1958237\n",
      "6.198599\n",
      "6.1811724\n",
      "6.1741138\n",
      "6.1652365\n",
      "6.156991\n",
      "6.1663055\n",
      "6.1280003\n",
      "6.1275015\n",
      "6.10497\n",
      "6.102578\n",
      "6.1153326\n",
      "6.094902\n",
      "6.0908833\n",
      "6.093194\n",
      "6.076311\n",
      "6.053398\n",
      "6.062275\n",
      "6.0538926\n",
      "6.0596333\n",
      "6.0361567\n",
      "6.066662\n",
      "6.0024915\n",
      "6.0128527\n",
      "5.9970894\n",
      "6.0211873\n",
      "5.9952383\n",
      "5.9900513\n",
      "5.981287\n",
      "6.0056896\n",
      "5.9375134\n",
      "5.939848\n",
      "5.9221644\n",
      "5.973228\n",
      "5.9027233\n",
      "5.9487667\n",
      "5.9099097\n",
      "5.9460983\n",
      "5.9035835\n",
      "5.903315\n",
      "5.8781776\n",
      "5.8971953\n",
      "5.8790154\n",
      "5.903883\n",
      "5.8572793\n",
      "5.8620434\n",
      "5.859692\n",
      "5.8479133\n",
      "5.8422956\n",
      "5.8227215\n",
      "5.8308754\n",
      "5.813409\n",
      "5.816634\n",
      "5.795795\n",
      "5.784895\n",
      "5.784174\n",
      "5.7807736\n",
      "5.7637024\n",
      "5.792411\n",
      "5.762891\n",
      "5.8086467\n",
      "5.725237\n",
      "5.744504\n",
      "5.749901\n",
      "5.7430735\n",
      "5.7281666\n",
      "5.7198544\n",
      "5.702589\n",
      "5.712974\n",
      "5.7332177\n",
      "5.690577\n",
      "5.7367067\n",
      "5.6490316\n",
      "5.6432366\n",
      "5.6566925\n",
      "5.6946864\n",
      "5.6720076\n",
      "5.685274\n",
      "5.6526814\n",
      "5.6660748\n",
      "5.6230726\n",
      "5.631555\n",
      "5.619775\n",
      "5.6253166\n",
      "5.602663\n",
      "5.6036005\n",
      "5.58803\n",
      "5.611084\n",
      "5.591467\n",
      "5.6219187\n",
      "5.582019\n",
      "5.573711\n",
      "5.564457\n",
      "5.619871\n",
      "5.5285263\n",
      "5.518059\n",
      "5.531807\n",
      "5.541003\n",
      "5.5483174\n",
      "5.5512257\n",
      "5.538106\n",
      "5.5204086\n",
      "5.5197444\n",
      "5.530833\n",
      "5.5074263\n",
      "5.519856\n",
      "5.5053315\n",
      "5.4768662\n",
      "5.4899206\n",
      "5.458289\n",
      "5.469185\n",
      "5.4841385\n",
      "5.517682\n",
      "5.4354496\n",
      "5.455195\n",
      "5.4674473\n",
      "5.4640365\n",
      "5.45419\n",
      "5.4503784\n",
      "5.449727\n",
      "5.421266\n",
      "5.4326086\n",
      "5.3899546\n",
      "5.432004\n",
      "5.3948\n",
      "5.428942\n",
      "5.3766527\n",
      "5.408313\n",
      "5.3785353\n",
      "5.4050436\n",
      "5.361311\n",
      "5.3840303\n",
      "5.33715\n",
      "5.3612995\n",
      "5.3396354\n",
      "5.342811\n",
      "5.3380666\n",
      "5.3348866\n",
      "5.3390894\n",
      "5.319538\n",
      "5.3265533\n",
      "5.3329964\n",
      "5.317697\n",
      "5.3287573\n",
      "5.306751\n",
      "5.3116455\n",
      "5.3000407\n",
      "5.3141565\n",
      "5.2978044\n",
      "5.3028955\n",
      "5.2813387\n",
      "5.2824326\n",
      "5.2652264\n",
      "5.2519264\n",
      "5.250104\n",
      "5.2528543\n",
      "5.2614975\n",
      "5.2511015\n",
      "5.277149\n",
      "5.219048\n",
      "5.2384405\n",
      "5.226912\n",
      "5.251544\n",
      "5.2316194\n",
      "5.254569\n",
      "5.200367\n",
      "5.239702\n",
      "5.187851\n",
      "5.2082896\n",
      "5.2037783\n",
      "5.256884\n",
      "5.1568832\n",
      "5.1737\n",
      "5.1880236\n",
      "5.204654\n",
      "5.2016296\n",
      "5.195339\n",
      "5.190652\n",
      "5.1829395\n",
      "5.202301\n",
      "5.159086\n",
      "5.153555\n",
      "5.14244\n",
      "5.168964\n",
      "5.13973\n",
      "5.1426105\n",
      "5.123311\n",
      "5.149602\n",
      "5.1270256\n",
      "5.192217\n",
      "5.0864954\n",
      "5.0908756\n",
      "5.1159554\n",
      "5.134101\n",
      "5.1011353\n",
      "5.110412\n",
      "5.11922\n",
      "5.0964847\n",
      "5.1273956\n",
      "5.0576262\n",
      "5.068861\n",
      "5.113881\n",
      "5.084631\n",
      "5.1047144\n",
      "5.094182\n",
      "5.093518\n",
      "5.092312\n",
      "5.084756\n",
      "5.0826893\n",
      "5.0801697\n",
      "5.061965\n",
      "5.0758934\n",
      "5.0206738\n",
      "5.043302\n",
      "5.0276403\n",
      "5.0751734\n",
      "4.9958806\n",
      "5.018504\n",
      "5.042966\n",
      "5.0579453\n",
      "5.004093\n",
      "5.0259247\n",
      "5.010275\n",
      "5.019059\n",
      "5.0271087\n",
      "4.987504\n",
      "4.995487\n",
      "4.9930534\n",
      "5.0037727\n",
      "4.98131\n",
      "4.992117\n",
      "5.0006304\n",
      "4.987791\n",
      "4.9770613\n",
      "4.965003\n",
      "4.969054\n",
      "4.946536\n",
      "4.980134\n",
      "4.9428916\n",
      "4.9575615\n",
      "4.9488325\n",
      "4.9682617\n",
      "4.924632\n",
      "4.937991\n",
      "4.9562187\n",
      "4.915948\n",
      "4.9342337\n",
      "4.941014\n",
      "4.947325\n",
      "4.926719\n",
      "4.9293547\n",
      "4.9151697\n",
      "4.9208407\n",
      "4.908347\n",
      "4.9182053\n",
      "4.9156713\n",
      "4.9474277\n",
      "4.8660607\n",
      "4.8795395\n",
      "4.878587\n",
      "4.9207635\n",
      "4.854866\n",
      "4.882425\n",
      "4.886135\n",
      "4.890995\n",
      "4.8774233\n",
      "4.8969393\n",
      "4.884945\n",
      "4.8907433\n",
      "4.882073\n",
      "4.859836\n",
      "4.8961163\n",
      "4.8386784\n",
      "4.8764696\n",
      "4.8356442\n",
      "4.8896103\n",
      "4.8227015\n",
      "4.876507\n",
      "4.8386807\n",
      "4.8772483\n",
      "4.82535\n",
      "4.86436\n",
      "4.839842\n",
      "4.8516464\n",
      "4.832034\n",
      "4.850182\n",
      "4.8357716\n",
      "4.8401546\n",
      "4.8260117\n",
      "4.836179\n",
      "4.8537636\n",
      "4.822294\n",
      "4.849209\n",
      "4.8268003\n",
      "4.8005924\n",
      "4.808058\n",
      "4.8349724\n",
      "4.8019266\n",
      "4.8147297\n",
      "4.78494\n",
      "4.804121\n",
      "4.776353\n",
      "4.802823\n",
      "4.7622976\n",
      "4.7836485\n",
      "4.773943\n",
      "4.7759438\n",
      "4.765385\n",
      "4.7684827\n",
      "4.775282\n",
      "4.77039\n",
      "4.7943745\n",
      "4.7712584\n",
      "4.7685757\n",
      "4.7622023\n",
      "4.767274\n",
      "4.7604585\n",
      "4.7582917\n",
      "4.7632875\n",
      "4.739295\n",
      "4.7485256\n",
      "4.765281\n",
      "4.7531147\n",
      "4.7207036\n",
      "4.768569\n",
      "4.6950927\n",
      "4.740574\n",
      "4.723937\n",
      "4.756014\n",
      "4.723183\n",
      "4.7581587\n",
      "4.7155256\n",
      "4.726249\n",
      "4.705025\n",
      "4.7196503\n",
      "4.7078285\n",
      "4.715863\n",
      "4.7299776\n",
      "4.6854157\n",
      "4.696989\n",
      "4.7133613\n",
      "4.718317\n",
      "4.68503\n",
      "4.7105045\n",
      "4.698429\n",
      "4.6997824\n",
      "4.668272\n",
      "4.705225\n",
      "4.6703362\n",
      "4.703022\n",
      "4.680578\n",
      "4.713375\n",
      "4.697567\n",
      "4.6848674\n",
      "4.6738544\n",
      "4.705301\n",
      "4.6732154\n",
      "4.668791\n",
      "4.6794577\n",
      "4.7083197\n",
      "4.6663623\n",
      "4.670246\n",
      "4.6603246\n",
      "4.655136\n",
      "4.644252\n",
      "4.676532\n",
      "4.6579084\n",
      "4.7058163\n",
      "4.6319094\n",
      "4.630804\n",
      "4.626684\n",
      "4.65498\n",
      "4.6390443\n",
      "4.653792\n",
      "4.6201386\n",
      "4.6755447\n",
      "4.5969095\n",
      "4.634742\n",
      "4.5994806\n",
      "4.6265087\n",
      "4.6012516\n",
      "4.611634\n",
      "4.619686\n",
      "4.601533\n",
      "4.5867434\n",
      "4.6309676\n",
      "4.647928\n"
     ]
    },
    {
     "ename": "KeyboardInterrupt",
     "evalue": "",
     "output_type": "error",
     "traceback": [
      "\u001b[0;31m---------------------------------------------------------------------------\u001b[0m",
      "\u001b[0;31mKeyboardInterrupt\u001b[0m                         Traceback (most recent call last)",
      "Cell \u001b[0;32mIn[35], line 5\u001b[0m\n\u001b[1;32m      2\u001b[0m \u001b[38;5;28;01mfor\u001b[39;00m i \u001b[38;5;129;01min\u001b[39;00m \u001b[38;5;28mrange\u001b[39m(\u001b[38;5;241m0\u001b[39m, \u001b[38;5;241m1000\u001b[39m):\n\u001b[1;32m      3\u001b[0m     \u001b[38;5;66;03m# batch = next(iter)\u001b[39;00m\n\u001b[1;32m      4\u001b[0m     loss, weights \u001b[38;5;241m=\u001b[39m step(weights, batch[\u001b[38;5;124m'\u001b[39m\u001b[38;5;124mx\u001b[39m\u001b[38;5;124m'\u001b[39m], batch[\u001b[38;5;124m'\u001b[39m\u001b[38;5;124msegment_ids\u001b[39m\u001b[38;5;124m'\u001b[39m], batch[\u001b[38;5;124m'\u001b[39m\u001b[38;5;124my\u001b[39m\u001b[38;5;124m'\u001b[39m])\n\u001b[0;32m----> 5\u001b[0m     \u001b[38;5;28;43mprint\u001b[39;49m\u001b[43m(\u001b[49m\u001b[43mloss\u001b[49m\u001b[43m)\u001b[49m\n",
      "File \u001b[0;32m~/.local/lib/python3.10/site-packages/jax/_src/array.py:269\u001b[0m, in \u001b[0;36mArrayImpl.__str__\u001b[0;34m(self)\u001b[0m\n\u001b[1;32m    268\u001b[0m \u001b[38;5;28;01mdef\u001b[39;00m \u001b[38;5;21m__str__\u001b[39m(\u001b[38;5;28mself\u001b[39m):\n\u001b[0;32m--> 269\u001b[0m   \u001b[38;5;28;01mreturn\u001b[39;00m \u001b[38;5;28mstr\u001b[39m(\u001b[38;5;28;43mself\u001b[39;49m\u001b[38;5;241;43m.\u001b[39;49m\u001b[43m_value\u001b[49m)\n",
      "File \u001b[0;32m~/.local/lib/python3.10/site-packages/jax/_src/profiler.py:336\u001b[0m, in \u001b[0;36mannotate_function.<locals>.wrapper\u001b[0;34m(*args, **kwargs)\u001b[0m\n\u001b[1;32m    333\u001b[0m \u001b[38;5;129m@wraps\u001b[39m(func)\n\u001b[1;32m    334\u001b[0m \u001b[38;5;28;01mdef\u001b[39;00m \u001b[38;5;21mwrapper\u001b[39m(\u001b[38;5;241m*\u001b[39margs, \u001b[38;5;241m*\u001b[39m\u001b[38;5;241m*\u001b[39mkwargs):\n\u001b[1;32m    335\u001b[0m   \u001b[38;5;28;01mwith\u001b[39;00m TraceAnnotation(name, \u001b[38;5;241m*\u001b[39m\u001b[38;5;241m*\u001b[39mdecorator_kwargs):\n\u001b[0;32m--> 336\u001b[0m     \u001b[38;5;28;01mreturn\u001b[39;00m \u001b[43mfunc\u001b[49m\u001b[43m(\u001b[49m\u001b[38;5;241;43m*\u001b[39;49m\u001b[43margs\u001b[49m\u001b[43m,\u001b[49m\u001b[43m \u001b[49m\u001b[38;5;241;43m*\u001b[39;49m\u001b[38;5;241;43m*\u001b[39;49m\u001b[43mkwargs\u001b[49m\u001b[43m)\u001b[49m\n\u001b[1;32m    337\u001b[0m   \u001b[38;5;28;01mreturn\u001b[39;00m wrapper\n",
      "File \u001b[0;32m~/.local/lib/python3.10/site-packages/jax/_src/array.py:613\u001b[0m, in \u001b[0;36mArrayImpl._value\u001b[0;34m(self)\u001b[0m\n\u001b[1;32m    611\u001b[0m \u001b[38;5;28;01mif\u001b[39;00m \u001b[38;5;28mself\u001b[39m\u001b[38;5;241m.\u001b[39m_npy_value \u001b[38;5;129;01mis\u001b[39;00m \u001b[38;5;28;01mNone\u001b[39;00m:\n\u001b[1;32m    612\u001b[0m   \u001b[38;5;28;01mif\u001b[39;00m \u001b[38;5;28mself\u001b[39m\u001b[38;5;241m.\u001b[39mis_fully_replicated:\n\u001b[0;32m--> 613\u001b[0m     \u001b[38;5;28mself\u001b[39m\u001b[38;5;241m.\u001b[39m_npy_value \u001b[38;5;241m=\u001b[39m \u001b[38;5;28;43mself\u001b[39;49m\u001b[38;5;241;43m.\u001b[39;49m\u001b[43m_single_device_array_to_np_array\u001b[49m\u001b[43m(\u001b[49m\u001b[43m)\u001b[49m\n\u001b[1;32m    614\u001b[0m     \u001b[38;5;28mself\u001b[39m\u001b[38;5;241m.\u001b[39m_npy_value\u001b[38;5;241m.\u001b[39mflags\u001b[38;5;241m.\u001b[39mwriteable \u001b[38;5;241m=\u001b[39m \u001b[38;5;28;01mFalse\u001b[39;00m\n\u001b[1;32m    615\u001b[0m     \u001b[38;5;28;01mreturn\u001b[39;00m cast(np\u001b[38;5;241m.\u001b[39mndarray, \u001b[38;5;28mself\u001b[39m\u001b[38;5;241m.\u001b[39m_npy_value)\n",
      "\u001b[0;31mKeyboardInterrupt\u001b[0m: "
     ]
    }
   ],
   "source": [
    "# Does loss go down!\n",
    "for i in range(0, 1000):\n",
    "    # batch = next(iter)\n",
    "    loss, weights = step(weights, batch['x'], batch['segment_ids'], batch['y'])\n",
    "    print(loss)"
   ]
  },
  {
   "cell_type": "code",
   "execution_count": 36,
   "metadata": {},
   "outputs": [
    {
     "data": {
      "text/plain": [
       "Weights(layers=[Layer(q=Array(-0.000564575, dtype=bfloat16), k=Array(-0.000526428, dtype=bfloat16), v=Array(-0.00056076, dtype=bfloat16), proj=Array(-0.000518799, dtype=bfloat16), w1=Array(-0.00034523, dtype=bfloat16), w2=Array(-0.000358582, dtype=bfloat16), gamma1=Array(1, dtype=bfloat16), gamma2=Array(1, dtype=bfloat16)), Layer(q=Array(-0.000486374, dtype=bfloat16), k=Array(-0.000518799, dtype=bfloat16), v=Array(-0.000499725, dtype=bfloat16), proj=Array(-0.00056076, dtype=bfloat16), w1=Array(-0.000341415, dtype=bfloat16), w2=Array(-0.00034523, dtype=bfloat16), gamma1=Array(1, dtype=bfloat16), gamma2=Array(1, dtype=bfloat16)), Layer(q=Array(-0.000545502, dtype=bfloat16), k=Array(-0.000511169, dtype=bfloat16), v=Array(-0.000556946, dtype=bfloat16), proj=Array(-0.00056076, dtype=bfloat16), w1=Array(-0.000364304, dtype=bfloat16), w2=Array(-0.000366211, dtype=bfloat16), gamma1=Array(1, dtype=bfloat16), gamma2=Array(1, dtype=bfloat16)), Layer(q=Array(-0.000556946, dtype=bfloat16), k=Array(-0.000549316, dtype=bfloat16), v=Array(-0.000556946, dtype=bfloat16), proj=Array(-0.00056839, dtype=bfloat16), w1=Array(-0.00034523, dtype=bfloat16), w2=Array(-0.000347137, dtype=bfloat16), gamma1=Array(1, dtype=bfloat16), gamma2=Array(1, dtype=bfloat16))], embedding=Array(-0.00062561, dtype=bfloat16), vocab_proj=Array(-0.000728607, dtype=bfloat16))"
      ]
     },
     "execution_count": 36,
     "metadata": {},
     "output_type": "execute_result"
    }
   ],
   "source": [
    "jax.tree.map(jnp.mean, weights)"
   ]
  },
  {
   "cell_type": "code",
   "execution_count": 351,
   "metadata": {},
   "outputs": [],
   "source": [
    "model = reload(model)"
   ]
  },
  {
   "cell_type": "code",
   "execution_count": 43,
   "metadata": {},
   "outputs": [],
   "source": [
    "cache = model.KVCache.init(cfg=inference_config, batch_size=1, max_seq_len=2048)"
   ]
  },
  {
   "cell_type": "code",
   "execution_count": 51,
   "metadata": {},
   "outputs": [
    {
     "data": {
      "text/plain": [
       "'Once upon a time, there was a little cat named Tim. Tim loved to eat tuna. One day, Tim saw a high shelf in the kitchen. He thought, maybe there is tuna up there.\\nTim decided to climb up to the high shelf. He jumped and jumped until he reached the top. On the high shelf, he found a big can of tuna. Tim was very happy.\\nTim ate all the tuna on the high shelf. His tummy was full and he was very happy. He climbed down and took a long nap. From that day on, Tim always looked for tuna on high shelves.\\n<|endoftext|>One day, a brave cat named Tim went on a walk. He saw a big tree and decided to climb it. When he got to the top, he saw a pretty bird. The bird was sad because her egg lay on the ground.\\n\"Can you help me?\" asked the bird. \"My egg fell from my nest, and I cannot fly down to get it.\"\\nTim, being a brave cat, said, \"I will help you!\" He climbed down the tree very carefully. He picked up the egg with his soft paws and climbed back up. He put the egg back in the bird\\'s nest.\\nThe bird was so happy! She thanked Tim and told him that he had the power to help others. Tim felt proud and promised to use his power to help his friends. From that day on, Tim was known as the brave cat who helped others.\\n<|endoftext|>Once upon a time, there was a spider. The spider was not very smart. People called him the \"stupid spider\". He wanted to be like people, so he tried to dress like them.\\nOne day, the stupid spider found a small hat. He put it on his head. \"Look at me!\" he said to his friend, the ant. \"I am like people now!\" The ant laughed and said, \"You look funny, but you are still a spider.\"\\nThe stupid spider did not give up. He found a tiny shirt and put it on. \"How about now?\" he asked the ant. The ant shook his head and said, \"You are still a spider, but you look very nice.\"\\nThe stupid spider was happy. He knew he was still a spider, but he liked to dress up. His new clothes made him feel special. And from that day on, he was known as the \"dressed-up spider\".\\n<|endoftext|>Once upon a time, there was a big purple ball. It was very filthy, but it had many friends. One day, the sun was shining and the purple ball was playing with its friends in the park.\\nThe purple ball rolled to a small girl named Sally. Sally looked at the ball and said, \"Yuck! You are so filthy! I don\\'t want to play with you.\" The purple ball felt sad and rolled away.\\nAs the purple ball rolled away, it saw a big tree. It decided to strike the tree to feel better. When it hit the tree, something unexpected happened. The tree shook and all its leaves fell down, making the purple ball clean again. The ball was so happy and went back to play with Sally and its friends.\\n<|endoftext|>\\nOnce upon a time, there was a wise bear living in the woods. He lived happily all alone, though he often wished he could find someone to share his life with.\\nOne day, the bear ventured out of his den and saw the most beautiful mist he had ever seen. He stood there for a long time, admiring the beauty of the mist.\\nAfter a while, the bear spoke to the mist, \"Do you understand why I am here?\" The mist seemed to shake and move, as if it were replying. The bear listened closely until he heard a faint voice, \"Yes, I understand.\"\\nThe bear was overjoyed, suddenly, he had a friend like he had dreamed of. The two spent many nights under the stars, talking and playing.\\nOver time, the bear became wiser because now he understood why he was so lonely.\\n<|endoftext|><unk><unk><unk><unk><unk><unk><unk><unk><unk><unk><unk><unk><unk><unk><unk><unk><unk><unk><unk><unk><unk><unk><unk><unk><unk><unk><unk><unk><unk><unk><unk><unk><unk><unk><unk><unk><unk><unk><unk><unk><unk><unk><unk><unk><unk><unk><unk><unk><unk><unk><unk><unk><unk><unk><unk><unk><unk><unk><unk><unk><unk><unk><unk><unk><unk><unk><unk><unk><unk><unk><unk><unk><unk><unk><unk><unk><unk><unk><unk><unk><unk><unk><unk><unk><unk><unk><unk><unk><unk><unk><unk><unk><unk><unk><unk><unk><unk><unk><unk><unk><unk><unk><unk><unk><unk><unk><unk><unk><unk><unk><unk><unk><unk><unk><unk><unk><unk><unk><unk><unk><unk><unk><unk><unk><unk><unk><unk><unk><unk><unk><unk><unk><unk><unk><unk><unk><unk><unk><unk><unk><unk><unk><unk><unk><unk><unk><unk><unk><unk><unk><unk><unk><unk><unk><unk><unk><unk><unk><unk><unk><unk><unk><unk><unk><unk><unk><unk><unk><unk><unk><unk><unk><unk><unk><unk><unk><unk><unk><unk><unk><unk><unk><unk><unk><unk><unk><unk><unk><unk><unk><unk><unk><unk><unk><unk><unk><unk><unk><unk><unk><unk><unk><unk><unk><unk><unk><unk><unk><unk><unk><unk><unk><unk><unk><unk><unk><unk><unk><unk><unk><unk><unk><unk><unk><unk><unk><unk><unk><unk><unk><unk><unk><unk><unk><unk><unk><unk><unk><unk><unk><unk><unk><unk><unk><unk><unk><unk><unk><unk><unk><unk><unk><unk><unk><unk><unk><unk><unk><unk><unk><unk><unk><unk><unk><unk><unk><unk><unk><unk><unk><unk><unk><unk><unk><unk><unk><unk><unk><unk><unk><unk><unk><unk><unk><unk><unk><unk><unk><unk><unk><unk><unk><unk><unk><unk><unk><unk><unk><unk><unk><unk><unk><unk><unk><unk><unk><unk><unk><unk><unk><unk><unk><unk><unk><unk><unk><unk><unk><unk><unk><unk><unk><unk><unk><unk><unk><unk><unk><unk><unk><unk><unk><unk><unk><unk><unk><unk><unk><unk><unk><unk><unk><unk><unk><unk><unk><unk><unk><unk><unk><unk><unk><unk><unk><unk><unk><unk><unk><unk><unk><unk><unk><unk><unk><unk><unk><unk><unk><unk><unk><unk><unk><unk><unk><unk><unk><unk><unk><unk><unk><unk><unk><unk><unk><unk><unk><unk><unk><unk><unk><unk><unk><unk><unk><unk><unk><unk><unk><unk><unk><unk><unk><unk><unk><unk><unk><unk><unk><unk><unk><unk><unk><unk><unk><unk><unk><unk><unk><unk><unk><unk><unk><unk><unk><unk><unk><unk><unk><unk><unk><unk><unk><unk><unk><unk><unk><unk><unk><unk><unk><unk><unk><unk><unk><unk><unk><unk><unk><unk><unk><unk><unk><unk><unk><unk><unk><unk><unk><unk><unk><unk><unk><unk><unk><unk><unk><unk><unk><unk><unk><unk><unk><unk><unk><unk><unk><unk><unk><unk><unk><unk><unk><unk><unk><unk><unk><unk><unk><unk><unk><unk><unk><unk><unk><unk><unk><unk><unk><unk><unk><unk><unk><unk><unk><unk><unk><unk><unk><unk><unk><unk><unk><unk><unk><unk><unk><unk><unk><unk><unk><unk><unk><unk><unk><unk><unk><unk><unk><unk><unk><unk><unk><unk><unk><unk><unk><unk><unk><unk><unk><unk><unk><unk><unk><unk><unk><unk><unk><unk><unk><unk><unk><unk><unk><unk><unk><unk><unk><unk><unk><unk><unk><unk><unk><unk><unk><unk><unk><unk><unk><unk><unk><unk><unk><unk><unk><unk><unk><unk><unk><unk><unk><unk><unk><unk><unk><unk><unk><unk><unk><unk><unk><unk><unk><unk><unk><unk><unk><unk><unk><unk><unk><unk><unk><unk><unk><unk><unk><unk><unk><unk><unk><unk><unk><unk><unk><unk><unk><unk><unk><unk><unk><unk><unk><unk><unk><unk><unk><unk><unk><unk><unk><unk><unk><unk><unk><unk><unk><unk><unk><unk><unk><unk><unk><unk><unk><unk><unk><unk><unk><unk>'"
      ]
     },
     "execution_count": 51,
     "metadata": {},
     "output_type": "execute_result"
    }
   ],
   "source": [
    "ds.detokenize(batch['x'][0, :])"
   ]
  },
  {
   "cell_type": "code",
   "execution_count": 45,
   "metadata": {},
   "outputs": [],
   "source": [
    "prompt = ds.tokenize('Once upon a time, there was a little cat named Tim.')\n",
    "prompt, prompt_segment_ids = model.prepare_chunk(prompt, pad_to=256)"
   ]
  },
  {
   "cell_type": "code",
   "execution_count": 46,
   "metadata": {},
   "outputs": [],
   "source": [
    "logits, cache = model.forward(prompt, prompt_segment_ids, weights, inference_config, cache)"
   ]
  },
  {
   "cell_type": "code",
   "execution_count": 47,
   "metadata": {},
   "outputs": [],
   "source": [
    "sampled_tokens = model.sample_next_token(logits)"
   ]
  },
  {
   "cell_type": "code",
   "execution_count": 48,
   "metadata": {},
   "outputs": [
    {
     "data": {
      "text/plain": [
       "Array([[ 43,  39,  76,   9,  77,  72, 130,  17, 151,   4,  74, 162,  13,\n",
       "        110, 187, 200,  47, 183, 135,  35,  55,   1,  38,  64, 174,  26,\n",
       "         12, 223, 172,   3,   7, 185, 244, 137, 178, 165,  84,  14,   4,\n",
       "          8,  53,  95,  46,  68, 123,  40,  67,  95,  20,  80, 228,  97,\n",
       "        132,  97, 121, 115,  37, 144, 202,  40, 122,  46,  59,  94, 162,\n",
       "        140, 142,  29,  41, 199,   1,  42, 147, 112,  65,  24,  20, 177,\n",
       "        208,   7,  77, 255, 100,  92, 133,  50,  22,  40,  10,  55, 107,\n",
       "          2,  35,  49, 108, 176, 146, 157, 196,  23,  15,   8,  83,   9,\n",
       "        168, 253, 185,  23,  21,  71, 108,  19,  95,  83,  95,  95,  39,\n",
       "         35,   3, 207, 133,  67, 142, 164, 189,  69,  25,  34, 229,  90,\n",
       "         91, 228,  23, 119, 147,  83,  33,  19,  29,  99,  54, 157, 116,\n",
       "        121, 111,  19, 122,  31,  37, 247,  41,  93,  60, 100, 120,  90,\n",
       "         51,  16, 195,   6, 159,  39,  59, 253, 171,  19, 135,  19, 120,\n",
       "          8,  43, 105, 133, 123,  29, 242,  91, 171, 246, 194, 127,  67,\n",
       "         22, 181,  46,  81, 221,  31,  64, 224, 134,  26, 107,  35,  66,\n",
       "        183,  28,  24,  11,   2, 182,  81,  67, 240, 109, 247,  16,  64,\n",
       "          7,  76,  19,  32, 250, 146, 194, 139, 117,  70, 157,  93, 232,\n",
       "        152,  11,  93,  37,  77, 111,  26, 247, 120,  27,  86,  39, 242,\n",
       "         41, 107,  42,   9, 184,  93, 156, 119,  51,   8,  32,   0,  26,\n",
       "         27, 242,  71, 193, 104, 139, 248,  36, 105]], dtype=int32)"
      ]
     },
     "execution_count": 48,
     "metadata": {},
     "output_type": "execute_result"
    }
   ],
   "source": [
    "sampled_tokens"
   ]
  },
  {
   "cell_type": "code",
   "execution_count": 49,
   "metadata": {},
   "outputs": [
    {
     "data": {
      "text/plain": [
       "'GC.8/*<oob>g<oob>3,<oob>c<oob><oob><oob>K<oob><oob>yS0B\"<oob>pb<oob><oob>26<oob><oob><oob><oob><oob>@d37Q J&<oob>D% j<<oob>\\n<oob>\\n<oob><oob>A<oob><oob>D<oob>JW~<oob><oob><oob>sE<oob>0F<oob><oob>#nj<oob><oob>6/<oob>\\x0c|<oob>NlD9Sñ1yMà<oob><oob><oob><oob>me7?8<oob><oob><oob>mk)ài ?  Cy2<oob><oob>%<oob><oob><oob>\\'ox<oob>`{<oob>m<oob><oob>?wis\\x0bR<oob><oob><oob><oob>i<oob>uA<oob>E}X\\x0c<oob>`Of<oob>5<oob>CW<oob><oob>i<oob>i<oob>7G…<oob><oob>s<oob>{<oob><oob><oob><oob>%l<oob>J=<oob>u\"<oob><oob>pñy$<oob>rna1<oob>=%<oob>´<oob>f\"6.iv<oob><oob><oob><oob><oob>(<oob>}<oob><oob>a}A/<oob>p<oob><oob>q\\\\C<oob>EñF8<oob>}<oob><oob>O7v<unk>pq<oob>)<oob>é<oob><oob>z…'"
      ]
     },
     "execution_count": 49,
     "metadata": {},
     "output_type": "execute_result"
    }
   ],
   "source": [
    "ds.detokenize(sampled_tokens[0, :])"
   ]
  },
  {
   "cell_type": "code",
   "execution_count": 405,
   "metadata": {},
   "outputs": [
    {
     "data": {
      "text/plain": [
       "'One day, a nice girl named Lucy went to school. She wore a uniform. It was a pretty dress with a blue bow.\\nAt school, Lucy saw her friend Tom. Tom had a hole in his uniform. \"Oh no, Tom! Your uniform has a hole,\" she said. Tom was sad. He did not know what to do.\\nLucy had an idea. She went home and asked her mom to help. They found a new uniform for Tom. They replaced the old one with the new one. Tom was happy. \"Thank you, Lucy!\" he said. They played together and had a great day at school.\\n<|endoftext|>Once upon a time, in a small town, there was a little girl named Lucy. She loved to eat pastry. One day, she saw a pastry shop and went inside to buy her favorite treat. The shop was full of yummy pastries, and Lucy was very happy.\\nLucy picked a pastry that was very hard. She didn\\'t know why it was hard, but she wanted to try it. She took a bite, and suddenly, something unexpected happened. The hard pastry turned soft and sweet in her mouth. Lucy was very surprised and happy.\\nThen, Lucy learned that the pastry was magic! The shop owner told her that when you eat the pastry, you can reverse time. Lucy was so excited. She ate more of the magic pastry and went back in time to play with her friends all over again. And they all lived happily ever after.\\n<|endoftext|>One day, a little girl named Lily went to the park with her mom. They saw a regular bike that Lily wanted to ride. Her mom said okay and let her ride the bike. Lily was very happy and excited.\\nWhile Lily was riding the bike, a stranger came to the park. The stranger had a big bag with him. He put the bag down and opened it. Lily and her mom watched him, wondering what was inside.\\nThe stranger took out a big, colorful kite from the bag. He started to fly the kite high in the sky. Lily and her mom were surprised and happy to see the beautiful kite. They had thought the stranger was scary, but he just wanted to have fun at the park too. So, they all played together and had a great day at the park.\\n<|endoftext|>One day, a blue bird and a mosquito were talking in the garden. The blue bird said, \"I can fly high in the sky and see everything!\" The mosquito said, \"I can fly too, but I like to stay close to the ground.\"\\nThe blue bird saw a big, sweet cake on a table near the house. He wanted to eat it all but knew he should resist. The mosquito saw the cake too and said, \"Let\\'s share the cake!\" The blue bird agreed and they both flew down to the table.\\nAs they were eating the cake, a little girl came out of the house. She saw the blue bird and mosquito eating her cake. The little girl was sad, but she knew she should share. She said, \"You can have some cake, but please leave some for me.\"\\nThe blue bird and mosquito felt bad for eating the little girl\\'s cake. They decided to share it with her and all became friends. The moral of the story is to always share and resist taking things that are not yours.\\n<|endoftext|>One day, a little girl named Mia went on a walk with her dad. They wanted to discover new things. Mia was very excited. The sun was shining and the weather was fine.\\nAs they walked, Mia saw a big store. \"Dad, what is that?\" she asked. Her dad said, \"That is a coffee shop. People go there to drink coffee and talk with their friends.\"\\nThey went inside the coffee shop. Mia\\'s dad bought a cup of coffee. He let Mia take a little sip. \"Yuck!\" she said. \"Coffee is not for me!\" They both laughed and continued their walk, happy to have discovered something new together.\\n<|endoftext|>One day, a boy named Tim went on a trip with his mom. They went to the big store to buy some toys. Tim was very anxious because he wanted a new toy car.\\nIn the store, Tim saw many toy cars. He looked at them and said, \"Mom, I want this one!\" His mom looked at the price and said, \"Okay, Tim. We can buy it.\"\\nThey bought the toy car and went back home. Tim was happy and played with his new toy car all day. His mom was happy too because she saw her child smile. They had a great trip to the store.\\n<|endoftext|><unk><unk><unk><unk><unk><unk><unk><unk><unk><unk><unk><unk><unk><unk><unk><unk><unk><unk><unk><unk><unk><unk><unk><unk><unk><unk><unk><unk><unk><unk><unk><unk><unk><unk><unk><unk><unk><unk><unk><unk><unk><unk><unk><unk><unk><unk><unk><unk><unk><unk><unk><unk><unk><unk><unk><unk><unk><unk><unk><unk><unk><unk><unk><unk><unk><unk><unk><unk><unk><unk><unk><unk><unk><unk><unk><unk><unk><unk><unk><unk><unk><unk><unk><unk><unk><unk><unk><unk><unk><unk><unk>'"
      ]
     },
     "execution_count": 405,
     "metadata": {},
     "output_type": "execute_result"
    }
   ],
   "source": [
    "ds.detokenize(batch['x'][0, :])"
   ]
  },
  {
   "cell_type": "code",
   "execution_count": 360,
   "metadata": {},
   "outputs": [
    {
     "data": {
      "text/plain": [
       "'bv'"
      ]
     },
     "execution_count": 360,
     "metadata": {},
     "output_type": "execute_result"
    }
   ],
   "source": [
    "''.join([ds.itos[int(token)] for token in sampled_tokens[0, 1:3]])"
   ]
  },
  {
   "cell_type": "code",
   "execution_count": 306,
   "metadata": {},
   "outputs": [],
   "source": [
    "chunk_a = jnp.array([1, 2, 3, 4, 5, 6])\n",
    "chunk_b = jnp.array([7, 8, 9])\n",
    "chunk_c = jnp.array([1, 2, 3, 4, 5, 6, 7, 8, 9])\n",
    "\n",
    "\n",
    "\n",
    "\n",
    "chunk_a, segment_ids_a = prepare_chunk(chunk_a, pad_to=16)\n",
    "chunk_b, segment_ids_b = prepare_chunk(chunk_b, pad_to=16)\n",
    "chunk_c, segment_ids_c = prepare_chunk(chunk_c, pad_to=16)"
   ]
  },
  {
   "cell_type": "code",
   "execution_count": 307,
   "metadata": {},
   "outputs": [],
   "source": [
    "prefill_cache = model.KVCache.init(cfg=inference_config, batch_size=1, max_seq_len=2048)\n",
    "logits, prefill_cache = model.forward(chunk_c, segment_ids_c, weights, inference_config, prefill_cache)"
   ]
  },
  {
   "cell_type": "code",
   "execution_count": 308,
   "metadata": {},
   "outputs": [
    {
     "data": {
      "text/plain": [
       "(Array([9], dtype=int32),\n",
       " Array([0.111816, 0.0727539, 0.117188, 0.0407715, 0.12793, 0.0554199,\n",
       "        0.0688477, 0.0678711, 0.120605, 0, 0, 0, 0, 0, 0, 0, 0, 0, 0, 0, 0,\n",
       "        0, 0, 0, 0, 0, 0, 0, 0, 0, 0, 0], dtype=bfloat16),\n",
       " Array([[25, 25, 25, 25, 25, 67, 67, 67, 48, 48, 48, 48, 48, 48, 48, 48]],      dtype=int32))"
      ]
     },
     "execution_count": 308,
     "metadata": {},
     "output_type": "execute_result"
    }
   ],
   "source": [
    "prefill_cache.lengths, jnp.mean(prefill_cache.k[1], axis=-1)[0, 0, :32], jnp.argmax(logits, axis=-1)"
   ]
  },
  {
   "cell_type": "code",
   "execution_count": 309,
   "metadata": {},
   "outputs": [],
   "source": [
    "prefill_cache = model.KVCache.init(cfg=inference_config, batch_size=1, max_seq_len=2048)\n",
    "logits, prefill_cache = model.forward(chunk_a, segment_ids_a, weights, inference_config, prefill_cache)"
   ]
  },
  {
   "cell_type": "code",
   "execution_count": 310,
   "metadata": {},
   "outputs": [
    {
     "data": {
      "text/plain": [
       "(Array([6], dtype=int32),\n",
       " Array([0.111816, 0.0727539, 0.117188, 0.0407715, 0.12793, 0.0554199, 0, 0,\n",
       "        0, 0, 0, 0, 0, 0, 0, 0, 0, 0, 0, 0, 0, 0, 0, 0, 0, 0, 0, 0, 0, 0,\n",
       "        0, 0], dtype=bfloat16),\n",
       " Array([[25, 25, 25, 25, 25, 67, 48, 48, 48, 48, 48, 48, 48, 48, 48, 48]],      dtype=int32))"
      ]
     },
     "execution_count": 310,
     "metadata": {},
     "output_type": "execute_result"
    }
   ],
   "source": [
    "prefill_cache.lengths, jnp.mean(prefill_cache.k[1], axis=-1)[0, 0, :32], jnp.argmax(logits, axis=-1)"
   ]
  },
  {
   "cell_type": "code",
   "execution_count": 311,
   "metadata": {},
   "outputs": [],
   "source": [
    "logits, prefill_cache = model.forward(chunk_b, segment_ids_b, weights, inference_config, prefill_cache)"
   ]
  },
  {
   "cell_type": "code",
   "execution_count": 312,
   "metadata": {},
   "outputs": [
    {
     "data": {
      "text/plain": [
       "(Array([9], dtype=int32),\n",
       " Array([0.111816, 0.0727539, 0.117188, 0.0407715, 0.12793, 0.0554199,\n",
       "        0.0688477, 0.0678711, 0.120117, 0, 0, 0, 0, 0, 0, 0, 0, 0, 0, 0, 0,\n",
       "        0, 0, 0, 0, 0, 0, 0, 0, 0, 0, 0], dtype=bfloat16),\n",
       " Array([[67, 67, 48, 48, 48, 48, 48, 48, 48, 48, 48, 48, 48, 48, 48, 48]],      dtype=int32))"
      ]
     },
     "execution_count": 312,
     "metadata": {},
     "output_type": "execute_result"
    }
   ],
   "source": [
    "prefill_cache.lengths, jnp.mean(prefill_cache.k[1], axis=-1)[0, 0, :32], jnp.argmax(logits, axis=-1)"
   ]
  },
  {
   "cell_type": "code",
   "execution_count": 329,
   "metadata": {},
   "outputs": [
    {
     "ename": "AssertionError",
     "evalue": "K cache mismatch at layer 1",
     "output_type": "error",
     "traceback": [
      "\u001b[0;31m---------------------------------------------------------------------------\u001b[0m",
      "\u001b[0;31mAssertionError\u001b[0m                            Traceback (most recent call last)",
      "Cell \u001b[0;32mIn[329], line 64\u001b[0m\n\u001b[1;32m     59\u001b[0m     \u001b[38;5;28;01massert\u001b[39;00m jnp\u001b[38;5;241m.\u001b[39mallclose(logits_c[\u001b[38;5;241m0\u001b[39m, :\u001b[38;5;241m6\u001b[39m], logits_a[\u001b[38;5;241m0\u001b[39m, :\u001b[38;5;241m6\u001b[39m]), \u001b[38;5;124m\"\u001b[39m\u001b[38;5;124mLogits mismatch for first 6 tokens\u001b[39m\u001b[38;5;124m\"\u001b[39m\n\u001b[1;32m     61\u001b[0m     \u001b[38;5;28mprint\u001b[39m(\u001b[38;5;124m\"\u001b[39m\u001b[38;5;124mAll tests passed!\u001b[39m\u001b[38;5;124m\"\u001b[39m)\n\u001b[0;32m---> 64\u001b[0m \u001b[43mtest_incremental_prefill\u001b[49m\u001b[43m(\u001b[49m\u001b[43m)\u001b[49m\n",
      "Cell \u001b[0;32mIn[329], line 55\u001b[0m, in \u001b[0;36mtest_incremental_prefill\u001b[0;34m()\u001b[0m\n\u001b[1;32m     53\u001b[0m \u001b[38;5;66;03m# Assert cache consistency\u001b[39;00m\n\u001b[1;32m     54\u001b[0m \u001b[38;5;28;01mfor\u001b[39;00m layer \u001b[38;5;129;01min\u001b[39;00m \u001b[38;5;28mrange\u001b[39m(inference_config\u001b[38;5;241m.\u001b[39mnum_layers):\n\u001b[0;32m---> 55\u001b[0m     \u001b[38;5;28;01massert\u001b[39;00m jnp\u001b[38;5;241m.\u001b[39mallclose(prefill_cache_c\u001b[38;5;241m.\u001b[39mk[layer][:, :, :\u001b[38;5;241m9\u001b[39m, :], prefill_cache\u001b[38;5;241m.\u001b[39mk[layer][:, :, :\u001b[38;5;241m9\u001b[39m, :]), \u001b[38;5;124mf\u001b[39m\u001b[38;5;124m\"\u001b[39m\u001b[38;5;124mK cache mismatch at layer \u001b[39m\u001b[38;5;132;01m{\u001b[39;00mlayer\u001b[38;5;132;01m}\u001b[39;00m\u001b[38;5;124m\"\u001b[39m\n\u001b[1;32m     56\u001b[0m     \u001b[38;5;28;01massert\u001b[39;00m jnp\u001b[38;5;241m.\u001b[39mallclose(prefill_cache_c\u001b[38;5;241m.\u001b[39mv[layer][:, :, :\u001b[38;5;241m9\u001b[39m, :], prefill_cache\u001b[38;5;241m.\u001b[39mv[layer][:, :, :\u001b[38;5;241m9\u001b[39m, :]), \u001b[38;5;124mf\u001b[39m\u001b[38;5;124m\"\u001b[39m\u001b[38;5;124mV cache mismatch at layer \u001b[39m\u001b[38;5;132;01m{\u001b[39;00mlayer\u001b[38;5;132;01m}\u001b[39;00m\u001b[38;5;124m\"\u001b[39m\n\u001b[1;32m     58\u001b[0m \u001b[38;5;66;03m# Assert logits consistency for the first 6 tokens\u001b[39;00m\n",
      "\u001b[0;31mAssertionError\u001b[0m: K cache mismatch at layer 1"
     ]
    }
   ],
   "source": []
  },
  {
   "cell_type": "code",
   "execution_count": 348,
   "metadata": {},
   "outputs": [],
   "source": []
  },
  {
   "cell_type": "code",
   "execution_count": 346,
   "metadata": {},
   "outputs": [
    {
     "data": {
      "text/plain": [
       "Array([[1.2732564, 1.37221  , 1.4742929, 1.4115022, 1.225872 , 1.3535681,\n",
       "        1.3480004, 1.2813404, 1.4418206, 1.1841507, 1.1841507, 1.1841507,\n",
       "        1.1841507, 1.1841507, 1.1841507, 1.1841507]], dtype=float32)"
      ]
     },
     "execution_count": 346,
     "metadata": {},
     "output_type": "execute_result"
    }
   ],
   "source": [
    "jnp.mean(logits_c, axis=-1)"
   ]
  },
  {
   "cell_type": "code",
   "execution_count": 345,
   "metadata": {},
   "outputs": [
    {
     "data": {
      "text/plain": [
       "Array([[1.3480004, 1.2813404, 1.4418232, 1.1840515, 1.1840515, 1.1840515,\n",
       "        1.1840515, 1.1840515, 1.1841507, 1.1841507, 1.1841507, 1.1841507,\n",
       "        1.1841507, 1.1841507, 1.1841507, 1.1841507]], dtype=float32)"
      ]
     },
     "execution_count": 345,
     "metadata": {},
     "output_type": "execute_result"
    }
   ],
   "source": [
    "jnp.mean(logits_b, axis=-1)"
   ]
  },
  {
   "cell_type": "code",
   "execution_count": 339,
   "metadata": {},
   "outputs": [
    {
     "data": {
      "text/plain": [
       "(Array([9], dtype=int32),\n",
       " Array([0.194336, 0.232422, 0.160156, 0.25, 0.283203, 0.235352, 0.228516,\n",
       "        0.1875, 0.237305, 0, 0, 0, 0, 0, 0, 0, 0, 0, 0, 0, 0, 0, 0, 0, 0,\n",
       "        0, 0, 0, 0, 0, 0, 0], dtype=bfloat16))"
      ]
     },
     "execution_count": 339,
     "metadata": {},
     "output_type": "execute_result"
    }
   ],
   "source": [
    "prefill_cache.lengths, jnp.mean(prefill_cache.k[1], axis=-1)[0, 0, :32], jnp.argmax(logits, axis=-1)"
   ]
  },
  {
   "cell_type": "code",
   "execution_count": 340,
   "metadata": {},
   "outputs": [
    {
     "data": {
      "text/plain": [
       "(Array([9], dtype=int32),\n",
       " Array([0.194336, 0.232422, 0.160156, 0.25, 0.283203, 0.235352, 0.228516,\n",
       "        0.1875, 0.237305, 0, 0, 0, 0, 0, 0, 0, 0, 0, 0, 0, 0, 0, 0, 0, 0,\n",
       "        0, 0, 0, 0, 0, 0, 0], dtype=bfloat16))"
      ]
     },
     "execution_count": 340,
     "metadata": {},
     "output_type": "execute_result"
    }
   ],
   "source": [
    "prefill_cache_c.lengths, jnp.mean(prefill_cache_c.k[3], axis=-1)[0, 0, :32]"
   ]
  },
  {
   "cell_type": "code",
   "execution_count": 341,
   "metadata": {},
   "outputs": [],
   "source": []
  },
  {
   "cell_type": "code",
   "execution_count": 145,
   "metadata": {},
   "outputs": [],
   "source": [
    "q_segment_ids = jnp.array([[1,1,2,2], [1,1,1,2]])\n",
    "k_segment_ids = jnp.array([[1,1,1,2,2,0,0], [1,1,2,2,2,0,0]])"
   ]
  },
  {
   "cell_type": "code",
   "execution_count": 151,
   "metadata": {},
   "outputs": [
    {
     "data": {
      "text/plain": [
       "Array([[[1, 1, 1, 0, 0, 0, 0],\n",
       "        [1, 1, 1, 0, 0, 0, 0],\n",
       "        [0, 0, 0, 1, 1, 0, 0],\n",
       "        [0, 0, 0, 1, 1, 0, 0]],\n",
       "\n",
       "       [[1, 1, 0, 0, 0, 0, 0],\n",
       "        [1, 1, 0, 0, 0, 0, 0],\n",
       "        [1, 1, 0, 0, 0, 0, 0],\n",
       "        [0, 0, 1, 1, 1, 0, 0]]], dtype=int32)"
      ]
     },
     "execution_count": 151,
     "metadata": {},
     "output_type": "execute_result"
    }
   ],
   "source": [
    "(k_segment_ids[:, None, :] == q_segment_ids[:, :, None]).astype(jnp.int32)"
   ]
  },
  {
   "cell_type": "code",
   "execution_count": 156,
   "metadata": {},
   "outputs": [
    {
     "data": {
      "text/plain": [
       "Array([[1., 0., 0., 0., 0., 0., 0.],\n",
       "       [1., 1., 0., 0., 0., 0., 0.],\n",
       "       [1., 1., 1., 0., 0., 0., 0.]], dtype=float32)"
      ]
     },
     "execution_count": 156,
     "metadata": {},
     "output_type": "execute_result"
    }
   ],
   "source": [
    "jnp.tril(jnp.ones((3, 7)))"
   ]
  },
  {
   "cell_type": "code",
   "execution_count": 16,
   "metadata": {},
   "outputs": [
    {
     "data": {
      "text/plain": [
       "<module 'jax.experimental.shard_map' from '/home/sholto/.local/lib/python3.10/site-packages/jax/experimental/shard_map.py'>"
      ]
     },
     "execution_count": 16,
     "metadata": {},
     "output_type": "execute_result"
    }
   ],
   "source": [
    "jax.experimental.shard_map"
   ]
  },
  {
   "cell_type": "code",
   "execution_count": 157,
   "metadata": {},
   "outputs": [],
   "source": [
    "qk = (1, 1, 3, 7)\n",
    "q_iota = jax.lax.broadcasted_iota(jnp.int32, qk, 2)\n",
    "q_offset = \n",
    "k_iota = jax.lax.broadcasted_iota(jnp.int32, qk, 3)\n",
    "mask = q_iota >= k_iota"
   ]
  },
  {
   "cell_type": "code",
   "execution_count": 162,
   "metadata": {},
   "outputs": [
    {
     "data": {
      "text/plain": [
       "(1, 1, 3, 7)"
      ]
     },
     "execution_count": 162,
     "metadata": {},
     "output_type": "execute_result"
    }
   ],
   "source": [
    "q_iota.shape"
   ]
  },
  {
   "cell_type": "code",
   "execution_count": 160,
   "metadata": {},
   "outputs": [
    {
     "data": {
      "text/plain": [
       "Array([[[[0, 0, 0, 0, 0, 0, 0],\n",
       "         [1, 1, 1, 1, 1, 1, 1],\n",
       "         [2, 2, 2, 2, 2, 2, 2]]]], dtype=int32)"
      ]
     },
     "execution_count": 160,
     "metadata": {},
     "output_type": "execute_result"
    }
   ],
   "source": [
    "q_iota"
   ]
  },
  {
   "cell_type": "code",
   "execution_count": null,
   "metadata": {},
   "outputs": [],
   "source": []
  }
 ],
 "metadata": {
  "kernelspec": {
   "display_name": "Python 3",
   "language": "python",
   "name": "python3"
  },
  "language_info": {
   "codemirror_mode": {
    "name": "ipython",
    "version": 3
   },
   "file_extension": ".py",
   "mimetype": "text/x-python",
   "name": "python",
   "nbconvert_exporter": "python",
   "pygments_lexer": "ipython3",
   "version": "3.10.6"
  }
 },
 "nbformat": 4,
 "nbformat_minor": 2
}
