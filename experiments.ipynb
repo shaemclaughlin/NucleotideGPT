{
 "cells": [
  {
   "cell_type": "code",
   "execution_count": 2,
   "metadata": {},
   "outputs": [],
   "source": [
    "import jax"
   ]
  },
  {
   "cell_type": "code",
   "execution_count": 3,
   "metadata": {},
   "outputs": [
    {
     "data": {
      "text/plain": [
       "[TpuDevice(id=0, process_index=0, coords=(0,0,0), core_on_chip=0),\n",
       " TpuDevice(id=1, process_index=0, coords=(0,0,0), core_on_chip=1),\n",
       " TpuDevice(id=2, process_index=0, coords=(1,0,0), core_on_chip=0),\n",
       " TpuDevice(id=3, process_index=0, coords=(1,0,0), core_on_chip=1),\n",
       " TpuDevice(id=4, process_index=0, coords=(0,1,0), core_on_chip=0),\n",
       " TpuDevice(id=5, process_index=0, coords=(0,1,0), core_on_chip=1),\n",
       " TpuDevice(id=6, process_index=0, coords=(1,1,0), core_on_chip=0),\n",
       " TpuDevice(id=7, process_index=0, coords=(1,1,0), core_on_chip=1)]"
      ]
     },
     "execution_count": 3,
     "metadata": {},
     "output_type": "execute_result"
    }
   ],
   "source": [
    "jax.devices()"
   ]
  },
  {
   "cell_type": "code",
   "execution_count": 12,
   "metadata": {},
   "outputs": [
    {
     "name": "stdout",
     "output_type": "stream",
     "text": [
      "1: \n",
      "2: Once upon a time there was a little boy named Ben. Ben loved to explore the world around him. He saw many amazing things, like beautiful vases that were on display in a store. One day, Ben was walking through the store when he came across a very special vase. When Ben saw it he was amazed!\n",
      "3: He said, “Wow, that is a really amazing vase! Can I buy it?”\n",
      "4: The shopkeeper smiled and said, “Of course you can. You can take it home and show all your friends how amazing it is!”\n",
      "5: So Ben took the vase home and he was so proud of it! He called his friends over and showed them the amazing vase. All his friends thought the vase was beautiful and couldn't believe how lucky Ben was.\n",
      "6: And that's how Ben found an amazing vase in the store!\n",
      "7: <|endoftext|>\n",
      "8: Once upon a time, there was a reliable otter named Ollie. He lived in a river with his family. They all loved to play and swim together.\n",
      "9: One day, Ollie's mom said, \"Ollie, hurry and get some fish for dinner!\" Ollie swam fast to catch fish. He saw his friend, the duck. \"Hi, Ollie!\" said the duck. \"Hi, duck!\" said Ollie. \"I need to hurry and catch fish for my family.\"\n",
      "10: While Ollie was catching fish, he found a big shiny stone. He thought, \"This is not a fish, but it is so pretty!\" Ollie took the shiny stone home to show his family. They all looked at the shiny stone and smiled. The shiny stone made everyone happy, and they forgot about the fish for dinner.\n",
      "11: <|endoftext|>\n",
      "12: One day, a little boy named Tim went to the park. He saw a big tiger. The tiger was not mean, but very easy to play with. Tim and the tiger played all day. They had lots of fun.\n",
      "13: Then, something unexpected happened. The tiger started to shake. Tim was scared. He did not know what was going on. But then, the tiger turned into a nice dog. Tim was very surprised.\n",
      "14: Tim and the dog played together now. They were very happy. The dog was easy to play with too. At the end of the day, Tim went home with his new friend.\n",
      "15: <|endoftext|>\n",
      "16: \n",
      "17: Once upon a time there was a friendly little boy called Bob. Bob loved to pick flowers and look for birds. One day he decided to go outside with his friends to pick some more flowers.\n",
      "18: He suddenly noticed something weird on the ground. It was a big, green thumb! It was so big, Bob had never seen one before. Bob curiously leaned in to take a better look. He told his friends: \"look everyone, I picked up this big thumb! What do we do with it?\"\n",
      "19: His friends were very excited. They told him to pick it up and take it home to show his family. So Bob carefully picked up the friendly thumb and carried it back home. When he arrived, Bob happily showed the thumb to his family. His dad was amazed and hugged Bob to show his appreciation.\n",
      "20: From that day on Bob always kept the big, friendly thumb with him as a reminder that special things can be found anywhere.\n",
      "21: <|endoftext|>\n",
      "22: Once upon a time, in a small house, there lived a little girl named Lucy. Lucy loved the color orange. She had an orange dress, an orange ball, and even an orange cat. One day, Lucy met a new friend. This friend was not like other friends. It was a spirit. The spirit was very nice and liked to play with Lucy.\n",
      "23: One day, Lucy and the spirit were playing with her orange ball. They were having so much fun. Then, Lucy's mom called her for dinner. Lucy said to the spirit, \"I have to go eat now. Will you play with me later?\" The spirit nodded and smiled.\n",
      "24: At dinner, Lucy told her mom about the spirit. But her mom did not believe her. She said, \"Spirits are not real, Lucy. You have a big imagination.\" Lucy felt sad that her mom did not believe her. After dinner, she went back to play with the spirit. They played with the orange ball and had lots of fun. Lucy knew that even if others ignore her friend, the spirit was real and they could play together.\n",
      "25: <|endoftext|>\n",
      "26: One day, a boy named Tim went to the park to play. He saw his friend, Sam, playing with a toy car. Tim wanted to join and play with Sam. They both played with the toy car, and it went fast. The car had a battery inside that made it go.\n",
      "27: Tim said, \"Sam, the battery is tight in the car. It will not fall out.\" Sam smiled and they kept playing. They raced the car around the park, laughing and having fun.\n",
      "28: But then, something unexpected happened. A big dog came and took the toy car in its mouth! Tim and Sam were scared, but the dog just wanted to play too. They all played together, and the dog was very gentle with the car. In the end, Tim, Sam, and the dog became good friends.\n",
      "29: <|endoftext|>\n",
      "30: Once upon a time, there was a sailor named Tom. Tom had a big boat. He liked to sail on the sea. One day, Tom saw a little fish. The fish was sad. It was lost and wanted to go home.\n"
     ]
    }
   ],
   "source": [
    "def show_first_10_lines(file_path):\n",
    "    try:\n",
    "        with open(file_path, 'r') as file:\n",
    "            for i, line in enumerate(file):\n",
    "                if i < 30:\n",
    "                    print(f\"{i+1}: {line.strip()}\")\n",
    "                else:\n",
    "                    break\n",
    "    except FileNotFoundError:\n",
    "        print(f\"Error: The file '{file_path}' was not found.\")\n",
    "    except IOError:\n",
    "        print(f\"Error: There was an issue reading the file '{file_path}'.\")\n",
    "\n",
    "# Example usage\n",
    "file_path = 'projects/charformer/data/TinyStoriesV2-GPT4-train.txt'\n",
    "show_first_10_lines(file_path)"
   ]
  },
  {
   "cell_type": "code",
   "execution_count": 336,
   "metadata": {},
   "outputs": [],
   "source": [
    "import projects.charformer.data as data\n",
    "from importlib import reload\n",
    "data = reload(data)\n",
    "import sys\n",
    "import numpy\n",
    "numpy.set_printoptions(threshold=sys.maxsize)\n",
    "# %pip install tqdm\n"
   ]
  },
  {
   "cell_type": "code",
   "execution_count": 337,
   "metadata": {},
   "outputs": [],
   "source": [
    "ds = data.CharDataset(data.CharDataset.get_default_config())"
   ]
  },
  {
   "cell_type": "code",
   "execution_count": 338,
   "metadata": {},
   "outputs": [
    {
     "name": "stderr",
     "output_type": "stream",
     "text": [
      "5001it [00:00, 7557.05it/s]\n"
     ]
    },
    {
     "ename": "ArithmeticError",
     "evalue": "",
     "output_type": "error",
     "traceback": [
      "\u001b[0;31m---------------------------------------------------------------------------\u001b[0m",
      "\u001b[0;31mArithmeticError\u001b[0m                           Traceback (most recent call last)",
      "Cell \u001b[0;32mIn[338], line 1\u001b[0m\n\u001b[0;32m----> 1\u001b[0m \u001b[43mds\u001b[49m\u001b[38;5;241;43m.\u001b[39;49m\u001b[43mcreate_packed_records\u001b[49m\u001b[43m(\u001b[49m\u001b[43minput_file_path\u001b[49m\u001b[38;5;241;43m=\u001b[39;49m\u001b[43mfile_path\u001b[49m\u001b[43m,\u001b[49m\u001b[43m \u001b[49m\u001b[43moutput_dir\u001b[49m\u001b[38;5;241;43m=\u001b[39;49m\u001b[38;5;124;43m'\u001b[39;49m\u001b[38;5;124;43mprojects/charformer/data/tfrecords/\u001b[39;49m\u001b[38;5;124;43m'\u001b[39;49m\u001b[43m,\u001b[49m\u001b[43m \u001b[49m\u001b[43mcustom_delimiter\u001b[49m\u001b[38;5;241;43m=\u001b[39;49m\u001b[38;5;124;43m'\u001b[39;49m\u001b[38;5;124;43m<|endoftext|>\u001b[39;49m\u001b[38;5;124;43m'\u001b[39;49m\u001b[43m)\u001b[49m\n",
      "File \u001b[0;32m~/minformer/projects/charformer/data.py:109\u001b[0m, in \u001b[0;36mCharDataset.create_packed_records\u001b[0;34m(self, input_file_path, output_dir, custom_delimiter)\u001b[0m\n\u001b[1;32m    107\u001b[0m     current_text \u001b[38;5;241m+\u001b[39m\u001b[38;5;241m=\u001b[39m line\n\u001b[1;32m    108\u001b[0m \u001b[38;5;28;01mif\u001b[39;00m i \u001b[38;5;241m>\u001b[39m \u001b[38;5;241m5000\u001b[39m:\n\u001b[0;32m--> 109\u001b[0m     \u001b[38;5;28;01mraise\u001b[39;00m \u001b[38;5;167;01mArithmeticError\u001b[39;00m\n",
      "\u001b[0;31mArithmeticError\u001b[0m: "
     ]
    }
   ],
   "source": [
    "ds.create_packed_records(input_file_path=file_path, output_dir='projects/charformer/data/tfrecords/', custom_delimiter='<|endoftext|>')"
   ]
  },
  {
   "cell_type": "code",
   "execution_count": 339,
   "metadata": {},
   "outputs": [],
   "source": [
    "retokenized = ds.load_and_retokenize_tfrecord(file_path='projects/charformer/data/tfrecords/record_121.tfrecord')"
   ]
  },
  {
   "cell_type": "code",
   "execution_count": 340,
   "metadata": {},
   "outputs": [
    {
     "name": "stdout",
     "output_type": "stream",
     "text": [
      "One day, a boy named Tim was eager to sort his toy cars. He had a big box with many cars. Tim wanted to put the cars in small groups. He thought it would be fun.\n",
      "Tim's mom said, \"Be careful with the small cars. They may get lost.\" Tim said, \"I will be careful, Mom.\" He started to sort his cars by color. He had red cars, blue cars, and green cars. Tim was happy.\n",
      "But then, Tim found a tiny car. It was so small, it could fit in a cell. He put the tiny car in a safe place so it would not get lost. Later, Tim showed his mom all the sorted cars. His mom was proud of him. And the tiny car was safe, just like his mom said.\n",
      "<|endoftext|\n",
      "One day, a little girl named Lucy went to the park with her mom. Lucy saw a tall giraffe with a long neck. She felt nervous because she had never seen a giraffe before. She held her mom's hand tight.\n",
      "Lucy asked her mom a question, \"Mom, why does the giraffe have such a long neck?\" Her mom smiled and said, \"The giraffe has a long neck so it can eat leaves from the tall trees.\"\n",
      "Lucy thought about it and then asked another question, \"Can I feed the giraffe?\" Her mom said, \"Yes, but be gentle.\" Lucy slowly walked up to the giraffe, not feeling nervous anymore. She fed the giraffe some leaves, and they became friends.\n",
      "<|endoftext|\n",
      "\n",
      "Once upon a time there was a little boy named Joe. Joe was only three years old and was very curious. He loved to explore the world around him. One day, Joe was walking near a big pile of garbage when he noticed something disgusting. \n",
      "Joe asked a question. He wanted to know what the disgusting smell was coming from the pile of garbage. Just then, Joe heard a voice coming from the pile. It said,  \"Come closer and find out.\"\n",
      "Joe stepped closer and cautiously stuck his head over the pile. Then he saw something he had never seen before. There was a big tear in the side of a huge plastic container and the stench was coming from the inside. \n",
      "Joe felt scared. He was about to tear away, when something flew out from the container and landed on the ground in front of him. It was a shiny penny! Joe was so excited. He carefully picked it up, and smiled as he popped it in his pocket.\n",
      "Joe went home never realizing that his lucky penny was the cause of all the disgusting smells.\n",
      "<|endoftext|\n",
      "\n",
      "Once upon a time there was a little girl named Jane. Jane was only three years old and she loved to have fun.\n",
      "One day Jane's mum called her to come inside for lunch. It was almost noon, so Jane knew it was time to go inside and eat. Jane ran inside the house and found her mum in the kitchen. She was making a yummy meal for Jane. Jane gave her mum a big hug and said it was a very good lunch.\n",
      "After eating, Jane and her mum went outside to play. They flew paper airplanes, blew bubbles and made some art. Then, when the sun was high in the sky, Jane's mum called her name again. It was time for a nap. \n",
      "Jane said goodbye to the sun and went inside. She lay in her bed and soon fell fast asleep. When Jane woke up it was already almost noon again. She knew that the day had been a very good one.\n",
      "<|endoftext|\n",
      "Once upon a time, a cat with soft fur lived in a small house. The cat loved to play outside when it was dry and sunny. One day, the cat went to a shop to buy a toy.\n",
      "In the shop, the cat saw a dog. The dog was big and had a toy in its mouth. The cat said, \"Hi, dog! I want to buy a toy too.\" The dog said, \"Hi, cat! I like your fur. It is very soft.\"\n",
      "The cat and the dog went to pay for their toys. The cat said, \"I am happy we are friends.\" The dog said, \"Me too, cat. Let's play together when it is dry outside.\" They both paid for their toys and went outside to play in the sun.\n",
      "<|endoftext|\n"
     ]
    }
   ],
   "source": [
    "for r in retokenized:\n",
    "    print(r)"
   ]
  },
  {
   "cell_type": "code",
   "execution_count": 198,
   "metadata": {},
   "outputs": [
    {
     "data": {
      "text/plain": [
       "array([1, 2])"
      ]
     },
     "execution_count": 198,
     "metadata": {},
     "output_type": "execute_result"
    }
   ],
   "source": [
    "ds.create_iterator('projects/charformer/data/tfrecords/record_*.tf_record', batch_size=4)"
   ]
  },
  {
   "cell_type": "code",
   "execution_count": 212,
   "metadata": {},
   "outputs": [
    {
     "data": {
      "text/plain": [
       "(array([0, 1, 2]),)"
      ]
     },
     "execution_count": 212,
     "metadata": {},
     "output_type": "execute_result"
    }
   ],
   "source": [
    "np.where(q == 1)"
   ]
  },
  {
   "cell_type": "code",
   "execution_count": 65,
   "metadata": {},
   "outputs": [
    {
     "data": {
      "text/plain": [
       "'“'"
      ]
     },
     "execution_count": 65,
     "metadata": {},
     "output_type": "execute_result"
    }
   ],
   "source": [
    "'“'"
   ]
  },
  {
   "cell_type": "code",
   "execution_count": null,
   "metadata": {},
   "outputs": [],
   "source": []
  }
 ],
 "metadata": {
  "kernelspec": {
   "display_name": "Python 3",
   "language": "python",
   "name": "python3"
  },
  "language_info": {
   "codemirror_mode": {
    "name": "ipython",
    "version": 3
   },
   "file_extension": ".py",
   "mimetype": "text/x-python",
   "name": "python",
   "nbconvert_exporter": "python",
   "pygments_lexer": "ipython3",
   "version": "3.8.5"
  }
 },
 "nbformat": 4,
 "nbformat_minor": 2
}
